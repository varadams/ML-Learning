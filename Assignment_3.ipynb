{
 "cells": [
  {
   "cell_type": "code",
   "execution_count": 8,
   "metadata": {},
   "outputs": [],
   "source": [
    "def dividebyzero():\n",
    "    try:\n",
    "        5/0\n",
    "    except ZeroDivisionError:\n",
    "        print(\"Divide by zero in Denominator\")"
   ]
  },
  {
   "cell_type": "code",
   "execution_count": 9,
   "metadata": {},
   "outputs": [
    {
     "name": "stdout",
     "output_type": "stream",
     "text": [
      "Divide by zero in Denominator\n"
     ]
    }
   ],
   "source": [
    "dividebyzero()"
   ]
  },
  {
   "cell_type": "code",
   "execution_count": 10,
   "metadata": {},
   "outputs": [],
   "source": [
    "def formationOfSentences():\n",
    "    subjects = [\"Americans\",\"Indians\"]\n",
    "    verbs = [\"play\",\"watch\"]\n",
    "    objects = [\"Baseball\",\"Cricket\"]\n",
    "    \n",
    "    for subject in subjects:\n",
    "        for verb in verbs:\n",
    "            for obj in objects:\n",
    "                print(subject + \" \"+ verb +\" \" + obj)\n",
    "    \n",
    "    "
   ]
  },
  {
   "cell_type": "code",
   "execution_count": 11,
   "metadata": {},
   "outputs": [
    {
     "name": "stdout",
     "output_type": "stream",
     "text": [
      "Americans play Baseball\n",
      "Americans play Cricket\n",
      "Americans watch Baseball\n",
      "Americans watch Cricket\n",
      "Indians play Baseball\n",
      "Indians play Cricket\n",
      "Indians watch Baseball\n",
      "Indians watch Cricket\n"
     ]
    }
   ],
   "source": [
    "formationOfSentences()"
   ]
  },
  {
   "cell_type": "code",
   "execution_count": 55,
   "metadata": {},
   "outputs": [],
   "source": [
    "import math\n",
    "import numpy as np\n",
    "def vander_matrix(num_array = [], increasing = True):\n",
    "    mat = [[0 for x in range(len(num_array))] for y in range(len(num_array))]\n",
    "    \n",
    "    for i in range(len(num_array)):\n",
    "        for j in range(len(num_array)):\n",
    "            if increasing:\n",
    "                mat[i][j] = math.pow(num_array[i],j)\n",
    "            else:\n",
    "                mat[i][j] = math.pow(num_array[i], len(num_array) - j -1 )\n",
    "        \n",
    "    print(np.array(mat))"
   ]
  },
  {
   "cell_type": "code",
   "execution_count": 56,
   "metadata": {},
   "outputs": [
    {
     "name": "stdout",
     "output_type": "stream",
     "text": [
      "[[  1.   1.   1.   1.   1.]\n",
      " [ 16.   8.   4.   2.   1.]\n",
      " [ 81.  27.   9.   3.   1.]\n",
      " [256.  64.  16.   4.   1.]\n",
      " [625. 125.  25.   5.   1.]]\n"
     ]
    }
   ],
   "source": [
    "vander_matrix([1,2,3,4,5], increasing = False)"
   ]
  },
  {
   "cell_type": "code",
   "execution_count": null,
   "metadata": {},
   "outputs": [],
   "source": []
  }
 ],
 "metadata": {
  "kernelspec": {
   "display_name": "Python 3",
   "language": "python",
   "name": "python3"
  },
  "language_info": {
   "codemirror_mode": {
    "name": "ipython",
    "version": 3
   },
   "file_extension": ".py",
   "mimetype": "text/x-python",
   "name": "python",
   "nbconvert_exporter": "python",
   "pygments_lexer": "ipython3",
   "version": "3.7.2"
  }
 },
 "nbformat": 4,
 "nbformat_minor": 2
}
