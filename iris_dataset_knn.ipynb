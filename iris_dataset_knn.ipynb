{
 "cells": [
  {
   "cell_type": "code",
   "execution_count": 1,
   "metadata": {},
   "outputs": [],
   "source": [
    "import numpy as np\n",
    "from sklearn import datasets"
   ]
  },
  {
   "cell_type": "code",
   "execution_count": 2,
   "metadata": {},
   "outputs": [],
   "source": [
    "data = datasets.load_iris()"
   ]
  },
  {
   "cell_type": "code",
   "execution_count": 3,
   "metadata": {},
   "outputs": [
    {
     "data": {
      "text/plain": [
       "['DESCR', 'data', 'feature_names', 'filename', 'target', 'target_names']"
      ]
     },
     "execution_count": 3,
     "metadata": {},
     "output_type": "execute_result"
    }
   ],
   "source": [
    "dir(data)"
   ]
  },
  {
   "cell_type": "code",
   "execution_count": 4,
   "metadata": {},
   "outputs": [],
   "source": [
    "data_val  = data.target"
   ]
  },
  {
   "cell_type": "code",
   "execution_count": 5,
   "metadata": {},
   "outputs": [
    {
     "data": {
      "text/plain": [
       "150"
      ]
     },
     "execution_count": 5,
     "metadata": {},
     "output_type": "execute_result"
    }
   ],
   "source": [
    "len(data_val)"
   ]
  },
  {
   "cell_type": "code",
   "execution_count": 6,
   "metadata": {},
   "outputs": [],
   "source": [
    "import collections"
   ]
  },
  {
   "cell_type": "code",
   "execution_count": 7,
   "metadata": {},
   "outputs": [],
   "source": [
    "data_names = data.target_names"
   ]
  },
  {
   "cell_type": "code",
   "execution_count": 8,
   "metadata": {},
   "outputs": [
    {
     "data": {
      "text/plain": [
       "array(['setosa', 'versicolor', 'virginica'], dtype='<U10')"
      ]
     },
     "execution_count": 8,
     "metadata": {},
     "output_type": "execute_result"
    }
   ],
   "source": [
    "data_names"
   ]
  },
  {
   "cell_type": "code",
   "execution_count": 9,
   "metadata": {},
   "outputs": [],
   "source": [
    "data_1  = data.data"
   ]
  },
  {
   "cell_type": "code",
   "execution_count": 10,
   "metadata": {},
   "outputs": [
    {
     "data": {
      "text/plain": [
       "array([[5.1, 3.5, 1.4, 0.2],\n",
       "       [4.9, 3. , 1.4, 0.2],\n",
       "       [4.7, 3.2, 1.3, 0.2],\n",
       "       [4.6, 3.1, 1.5, 0.2],\n",
       "       [5. , 3.6, 1.4, 0.2],\n",
       "       [5.4, 3.9, 1.7, 0.4],\n",
       "       [4.6, 3.4, 1.4, 0.3],\n",
       "       [5. , 3.4, 1.5, 0.2],\n",
       "       [4.4, 2.9, 1.4, 0.2],\n",
       "       [4.9, 3.1, 1.5, 0.1],\n",
       "       [5.4, 3.7, 1.5, 0.2],\n",
       "       [4.8, 3.4, 1.6, 0.2],\n",
       "       [4.8, 3. , 1.4, 0.1],\n",
       "       [4.3, 3. , 1.1, 0.1],\n",
       "       [5.8, 4. , 1.2, 0.2],\n",
       "       [5.7, 4.4, 1.5, 0.4],\n",
       "       [5.4, 3.9, 1.3, 0.4],\n",
       "       [5.1, 3.5, 1.4, 0.3],\n",
       "       [5.7, 3.8, 1.7, 0.3],\n",
       "       [5.1, 3.8, 1.5, 0.3],\n",
       "       [5.4, 3.4, 1.7, 0.2],\n",
       "       [5.1, 3.7, 1.5, 0.4],\n",
       "       [4.6, 3.6, 1. , 0.2],\n",
       "       [5.1, 3.3, 1.7, 0.5],\n",
       "       [4.8, 3.4, 1.9, 0.2],\n",
       "       [5. , 3. , 1.6, 0.2],\n",
       "       [5. , 3.4, 1.6, 0.4],\n",
       "       [5.2, 3.5, 1.5, 0.2],\n",
       "       [5.2, 3.4, 1.4, 0.2],\n",
       "       [4.7, 3.2, 1.6, 0.2],\n",
       "       [4.8, 3.1, 1.6, 0.2],\n",
       "       [5.4, 3.4, 1.5, 0.4],\n",
       "       [5.2, 4.1, 1.5, 0.1],\n",
       "       [5.5, 4.2, 1.4, 0.2],\n",
       "       [4.9, 3.1, 1.5, 0.2],\n",
       "       [5. , 3.2, 1.2, 0.2],\n",
       "       [5.5, 3.5, 1.3, 0.2],\n",
       "       [4.9, 3.6, 1.4, 0.1],\n",
       "       [4.4, 3. , 1.3, 0.2],\n",
       "       [5.1, 3.4, 1.5, 0.2],\n",
       "       [5. , 3.5, 1.3, 0.3],\n",
       "       [4.5, 2.3, 1.3, 0.3],\n",
       "       [4.4, 3.2, 1.3, 0.2],\n",
       "       [5. , 3.5, 1.6, 0.6],\n",
       "       [5.1, 3.8, 1.9, 0.4],\n",
       "       [4.8, 3. , 1.4, 0.3],\n",
       "       [5.1, 3.8, 1.6, 0.2],\n",
       "       [4.6, 3.2, 1.4, 0.2],\n",
       "       [5.3, 3.7, 1.5, 0.2],\n",
       "       [5. , 3.3, 1.4, 0.2],\n",
       "       [7. , 3.2, 4.7, 1.4],\n",
       "       [6.4, 3.2, 4.5, 1.5],\n",
       "       [6.9, 3.1, 4.9, 1.5],\n",
       "       [5.5, 2.3, 4. , 1.3],\n",
       "       [6.5, 2.8, 4.6, 1.5],\n",
       "       [5.7, 2.8, 4.5, 1.3],\n",
       "       [6.3, 3.3, 4.7, 1.6],\n",
       "       [4.9, 2.4, 3.3, 1. ],\n",
       "       [6.6, 2.9, 4.6, 1.3],\n",
       "       [5.2, 2.7, 3.9, 1.4],\n",
       "       [5. , 2. , 3.5, 1. ],\n",
       "       [5.9, 3. , 4.2, 1.5],\n",
       "       [6. , 2.2, 4. , 1. ],\n",
       "       [6.1, 2.9, 4.7, 1.4],\n",
       "       [5.6, 2.9, 3.6, 1.3],\n",
       "       [6.7, 3.1, 4.4, 1.4],\n",
       "       [5.6, 3. , 4.5, 1.5],\n",
       "       [5.8, 2.7, 4.1, 1. ],\n",
       "       [6.2, 2.2, 4.5, 1.5],\n",
       "       [5.6, 2.5, 3.9, 1.1],\n",
       "       [5.9, 3.2, 4.8, 1.8],\n",
       "       [6.1, 2.8, 4. , 1.3],\n",
       "       [6.3, 2.5, 4.9, 1.5],\n",
       "       [6.1, 2.8, 4.7, 1.2],\n",
       "       [6.4, 2.9, 4.3, 1.3],\n",
       "       [6.6, 3. , 4.4, 1.4],\n",
       "       [6.8, 2.8, 4.8, 1.4],\n",
       "       [6.7, 3. , 5. , 1.7],\n",
       "       [6. , 2.9, 4.5, 1.5],\n",
       "       [5.7, 2.6, 3.5, 1. ],\n",
       "       [5.5, 2.4, 3.8, 1.1],\n",
       "       [5.5, 2.4, 3.7, 1. ],\n",
       "       [5.8, 2.7, 3.9, 1.2],\n",
       "       [6. , 2.7, 5.1, 1.6],\n",
       "       [5.4, 3. , 4.5, 1.5],\n",
       "       [6. , 3.4, 4.5, 1.6],\n",
       "       [6.7, 3.1, 4.7, 1.5],\n",
       "       [6.3, 2.3, 4.4, 1.3],\n",
       "       [5.6, 3. , 4.1, 1.3],\n",
       "       [5.5, 2.5, 4. , 1.3],\n",
       "       [5.5, 2.6, 4.4, 1.2],\n",
       "       [6.1, 3. , 4.6, 1.4],\n",
       "       [5.8, 2.6, 4. , 1.2],\n",
       "       [5. , 2.3, 3.3, 1. ],\n",
       "       [5.6, 2.7, 4.2, 1.3],\n",
       "       [5.7, 3. , 4.2, 1.2],\n",
       "       [5.7, 2.9, 4.2, 1.3],\n",
       "       [6.2, 2.9, 4.3, 1.3],\n",
       "       [5.1, 2.5, 3. , 1.1],\n",
       "       [5.7, 2.8, 4.1, 1.3],\n",
       "       [6.3, 3.3, 6. , 2.5],\n",
       "       [5.8, 2.7, 5.1, 1.9],\n",
       "       [7.1, 3. , 5.9, 2.1],\n",
       "       [6.3, 2.9, 5.6, 1.8],\n",
       "       [6.5, 3. , 5.8, 2.2],\n",
       "       [7.6, 3. , 6.6, 2.1],\n",
       "       [4.9, 2.5, 4.5, 1.7],\n",
       "       [7.3, 2.9, 6.3, 1.8],\n",
       "       [6.7, 2.5, 5.8, 1.8],\n",
       "       [7.2, 3.6, 6.1, 2.5],\n",
       "       [6.5, 3.2, 5.1, 2. ],\n",
       "       [6.4, 2.7, 5.3, 1.9],\n",
       "       [6.8, 3. , 5.5, 2.1],\n",
       "       [5.7, 2.5, 5. , 2. ],\n",
       "       [5.8, 2.8, 5.1, 2.4],\n",
       "       [6.4, 3.2, 5.3, 2.3],\n",
       "       [6.5, 3. , 5.5, 1.8],\n",
       "       [7.7, 3.8, 6.7, 2.2],\n",
       "       [7.7, 2.6, 6.9, 2.3],\n",
       "       [6. , 2.2, 5. , 1.5],\n",
       "       [6.9, 3.2, 5.7, 2.3],\n",
       "       [5.6, 2.8, 4.9, 2. ],\n",
       "       [7.7, 2.8, 6.7, 2. ],\n",
       "       [6.3, 2.7, 4.9, 1.8],\n",
       "       [6.7, 3.3, 5.7, 2.1],\n",
       "       [7.2, 3.2, 6. , 1.8],\n",
       "       [6.2, 2.8, 4.8, 1.8],\n",
       "       [6.1, 3. , 4.9, 1.8],\n",
       "       [6.4, 2.8, 5.6, 2.1],\n",
       "       [7.2, 3. , 5.8, 1.6],\n",
       "       [7.4, 2.8, 6.1, 1.9],\n",
       "       [7.9, 3.8, 6.4, 2. ],\n",
       "       [6.4, 2.8, 5.6, 2.2],\n",
       "       [6.3, 2.8, 5.1, 1.5],\n",
       "       [6.1, 2.6, 5.6, 1.4],\n",
       "       [7.7, 3. , 6.1, 2.3],\n",
       "       [6.3, 3.4, 5.6, 2.4],\n",
       "       [6.4, 3.1, 5.5, 1.8],\n",
       "       [6. , 3. , 4.8, 1.8],\n",
       "       [6.9, 3.1, 5.4, 2.1],\n",
       "       [6.7, 3.1, 5.6, 2.4],\n",
       "       [6.9, 3.1, 5.1, 2.3],\n",
       "       [5.8, 2.7, 5.1, 1.9],\n",
       "       [6.8, 3.2, 5.9, 2.3],\n",
       "       [6.7, 3.3, 5.7, 2.5],\n",
       "       [6.7, 3. , 5.2, 2.3],\n",
       "       [6.3, 2.5, 5. , 1.9],\n",
       "       [6.5, 3. , 5.2, 2. ],\n",
       "       [6.2, 3.4, 5.4, 2.3],\n",
       "       [5.9, 3. , 5.1, 1.8]])"
      ]
     },
     "execution_count": 10,
     "metadata": {},
     "output_type": "execute_result"
    }
   ],
   "source": [
    "data_1"
   ]
  },
  {
   "cell_type": "code",
   "execution_count": 11,
   "metadata": {},
   "outputs": [],
   "source": [
    "def distance(instance1,instance2):\n",
    "    instance1 = np.array(instance1)\n",
    "    instance2 = np.array(instance2)\n",
    "    summation = 0\n",
    "    for i,j in zip(instance1,instance2):\n",
    "        summation += (i-j)**2\n",
    "        \n",
    "    return summation**0.5"
   ]
  },
  {
   "cell_type": "code",
   "execution_count": 12,
   "metadata": {},
   "outputs": [],
   "source": [
    "def distance1(instance1,instance2):\n",
    "    instance1 = np.array(instance1)\n",
    "    instance2 = np.array(instance2)\n",
    "    \n",
    "    return np.linalg.norm(instance1 - instance2)"
   ]
  },
  {
   "cell_type": "code",
   "execution_count": 13,
   "metadata": {},
   "outputs": [
    {
     "name": "stdout",
     "output_type": "stream",
     "text": [
      "[5.1 3.5 1.4 0.2]\n",
      "[4.9 3.  1.4 0.2]\n"
     ]
    }
   ],
   "source": [
    "print(data_1[0])\n",
    "print(data_1[1])"
   ]
  },
  {
   "cell_type": "code",
   "execution_count": 14,
   "metadata": {},
   "outputs": [
    {
     "data": {
      "text/plain": [
       "0.5385164807134502"
      ]
     },
     "execution_count": 14,
     "metadata": {},
     "output_type": "execute_result"
    }
   ],
   "source": [
    "distance(data_1[0],data_1[1])"
   ]
  },
  {
   "cell_type": "code",
   "execution_count": 15,
   "metadata": {},
   "outputs": [
    {
     "data": {
      "text/plain": [
       "0.5385164807134502"
      ]
     },
     "execution_count": 15,
     "metadata": {},
     "output_type": "execute_result"
    }
   ],
   "source": [
    "distance1(data_1[0],data_1[1])"
   ]
  },
  {
   "cell_type": "code",
   "execution_count": 16,
   "metadata": {},
   "outputs": [],
   "source": [
    "def get_neighbors(training_set,labels,test_instance,k,distance=distance):\n",
    "    \n",
    "    distances = []\n",
    "    \n",
    "    for index in range(len(training_set)):\n",
    "        dist = distance(training_set[index],test_instance)\n",
    "        distances.append((training_set[index],dist,labels[index]))\n",
    "    distances.sort(key = lambda x:x[1])\n",
    "    neighbors = distances[:k]\n",
    "    return neighbors\n",
    "    "
   ]
  },
  {
   "cell_type": "code",
   "execution_count": 17,
   "metadata": {},
   "outputs": [],
   "source": [
    "neigh = get_neighbors(data_1[1:],data_val[1:],data_1[0],5,distance)"
   ]
  },
  {
   "cell_type": "code",
   "execution_count": 18,
   "metadata": {},
   "outputs": [
    {
     "data": {
      "text/plain": [
       "[(array([5.1, 3.5, 1.4, 0.3]), 0.09999999999999998, 0),\n",
       " (array([5. , 3.6, 1.4, 0.2]), 0.1414213562373093, 0),\n",
       " (array([5.1, 3.4, 1.5, 0.2]), 0.14142135623730964, 0),\n",
       " (array([5.2, 3.5, 1.5, 0.2]), 0.14142135623730995, 0),\n",
       " (array([5.2, 3.4, 1.4, 0.2]), 0.14142135623730995, 0)]"
      ]
     },
     "execution_count": 18,
     "metadata": {},
     "output_type": "execute_result"
    }
   ],
   "source": [
    "neigh"
   ]
  },
  {
   "cell_type": "code",
   "execution_count": 19,
   "metadata": {},
   "outputs": [],
   "source": [
    "from collections import Counter\n",
    "def vote(neighbors):\n",
    "    class_counter = Counter()\n",
    "    for neighbor in neighbors:\n",
    "        class_counter[neighbor[2]]+=1\n",
    "        \n",
    "    return class_counter.most_common(1)[0][0]"
   ]
  },
  {
   "cell_type": "code",
   "execution_count": 20,
   "metadata": {},
   "outputs": [],
   "source": [
    "def train_test_split(data_set,labels,test_size):\n",
    "    test_X = []\n",
    "    train_X = []\n",
    "    test_y = []\n",
    "    train_y = []\n",
    "    test_list = [] \n",
    "    while len(test_list) < len(labels)* test_size:\n",
    "        val = np.random.randint(len(labels))\n",
    "        if val not in test_list:\n",
    "            test_list.append(val)\n",
    "    for index in range(len(labels)):\n",
    "        if index in test_list:\n",
    "            test_X.append(data_set[index])\n",
    "            test_y.append(labels[index])\n",
    "        else:\n",
    "            train_X.append(data_set[index])\n",
    "            train_y.append(labels[index])\n",
    "            \n",
    "    return (train_X,test_X,train_y,test_y)"
   ]
  },
  {
   "cell_type": "code",
   "execution_count": 21,
   "metadata": {},
   "outputs": [],
   "source": [
    "train,test,train_y,test_y = train_test_split(data_1,data_val,0.2)"
   ]
  },
  {
   "cell_type": "code",
   "execution_count": 22,
   "metadata": {},
   "outputs": [
    {
     "name": "stdout",
     "output_type": "stream",
     "text": [
      "Correct Prediction\n",
      "index:  0 , result of vote:  0 , label:  0 , data:  [4.3 3.  1.1 0.1]\n",
      "Correct Prediction\n",
      "index:  1 , result of vote:  0 , label:  0 , data:  [5.7 4.4 1.5 0.4]\n",
      "Correct Prediction\n",
      "index:  2 , result of vote:  0 , label:  0 , data:  [5.2 4.1 1.5 0.1]\n",
      "Correct Prediction\n",
      "index:  3 , result of vote:  0 , label:  0 , data:  [4.4 3.  1.3 0.2]\n",
      "Correct Prediction\n",
      "index:  4 , result of vote:  0 , label:  0 , data:  [4.4 3.2 1.3 0.2]\n",
      "Correct Prediction\n",
      "index:  5 , result of vote:  0 , label:  0 , data:  [5.  3.5 1.6 0.6]\n",
      "Correct Prediction\n",
      "index:  6 , result of vote:  0 , label:  0 , data:  [5.  3.3 1.4 0.2]\n",
      "Correct Prediction\n",
      "index:  7 , result of vote:  1 , label:  1 , data:  [5.5 2.3 4.  1.3]\n",
      "Correct Prediction\n",
      "index:  8 , result of vote:  1 , label:  1 , data:  [6.3 3.3 4.7 1.6]\n",
      "Correct Prediction\n",
      "index:  9 , result of vote:  1 , label:  1 , data:  [6.  2.2 4.  1. ]\n",
      "Correct Prediction\n",
      "index:  10 , result of vote:  1 , label:  1 , data:  [6.1 2.9 4.7 1.4]\n",
      "Correct Prediction\n",
      "index:  11 , result of vote:  1 , label:  1 , data:  [6.7 3.1 4.4 1.4]\n",
      "Correct Prediction\n",
      "index:  12 , result of vote:  1 , label:  1 , data:  [6.2 2.2 4.5 1.5]\n",
      "Correct Prediction\n",
      "index:  13 , result of vote:  1 , label:  1 , data:  [6.1 2.8 4.  1.3]\n",
      "Correct Prediction\n",
      "index:  14 , result of vote:  1 , label:  1 , data:  [6.4 2.9 4.3 1.3]\n",
      "Correct Prediction\n",
      "index:  15 , result of vote:  1 , label:  1 , data:  [6.7 3.1 4.7 1.5]\n",
      "Correct Prediction\n",
      "index:  16 , result of vote:  1 , label:  1 , data:  [6.1 3.  4.6 1.4]\n",
      "Correct Prediction\n",
      "index:  17 , result of vote:  1 , label:  1 , data:  [5.8 2.6 4.  1.2]\n",
      "Correct Prediction\n",
      "index:  18 , result of vote:  1 , label:  1 , data:  [5.  2.3 3.3 1. ]\n",
      "Correct Prediction\n",
      "index:  19 , result of vote:  1 , label:  1 , data:  [6.2 2.9 4.3 1.3]\n",
      "Correct Prediction\n",
      "index:  20 , result of vote:  1 , label:  1 , data:  [5.1 2.5 3.  1.1]\n",
      "Correct Prediction\n",
      "index:  21 , result of vote:  2 , label:  2 , data:  [5.8 2.7 5.1 1.9]\n",
      "Correct Prediction\n",
      "index:  22 , result of vote:  2 , label:  2 , data:  [6.3 2.9 5.6 1.8]\n",
      "Correct Prediction\n",
      "index:  23 , result of vote:  2 , label:  2 , data:  [6.7 2.5 5.8 1.8]\n",
      "Correct Prediction\n",
      "index:  24 , result of vote:  2 , label:  2 , data:  [6.9 3.2 5.7 2.3]\n",
      "Correct Prediction\n",
      "index:  25 , result of vote:  2 , label:  2 , data:  [7.2 3.2 6.  1.8]\n",
      "Correct Prediction\n",
      "index:  26 , result of vote:  2 , label:  2 , data:  [6.2 2.8 4.8 1.8]\n",
      "Correct Prediction\n",
      "index:  27 , result of vote:  2 , label:  2 , data:  [7.2 3.  5.8 1.6]\n",
      "Correct Prediction\n",
      "index:  28 , result of vote:  2 , label:  2 , data:  [6.9 3.1 5.4 2.1]\n",
      "Correct Prediction\n",
      "index:  29 , result of vote:  2 , label:  2 , data:  [6.3 2.5 5.  1.9]\n"
     ]
    }
   ],
   "source": [
    "correct =[]\n",
    "wrong = []\n",
    "for i in range(len(test)):\n",
    "    neighbors = get_neighbors(train,train_y,test[i],3, distance=distance1)\n",
    "    if (test_y[i] == vote(neighbors)):\n",
    "        print(\"Correct Prediction\")\n",
    "        print(\"index: \", i, \n",
    "          \", result of vote: \", vote(neighbors), \n",
    "          \", label: \", test_y[i], \n",
    "          \", data: \", test[i])\n",
    "        correct.append(i)\n",
    "    else:\n",
    "        print(\"Wrong Prediction\")\n",
    "        print(\"index: \", i, \n",
    "          \", result of vote: \", vote(neighbors), \n",
    "          \", label: \", test_y[i], \n",
    "          \", data: \", test[i])\n",
    "        wrong.append(i)"
   ]
  },
  {
   "cell_type": "code",
   "execution_count": 23,
   "metadata": {},
   "outputs": [
    {
     "data": {
      "text/plain": [
       "[]"
      ]
     },
     "execution_count": 23,
     "metadata": {},
     "output_type": "execute_result"
    }
   ],
   "source": [
    "wrong"
   ]
  },
  {
   "cell_type": "code",
   "execution_count": 24,
   "metadata": {},
   "outputs": [],
   "source": [
    "def vote_harmonic_weights(neighbors,all_results=True):\n",
    "    class_counter = Counter()\n",
    "    n_neighbors = len(neighbors)\n",
    "    for index in range(n_neighbors):\n",
    "        class_counter[neighbors[index][2]] += 1/(index+1)\n",
    "    labels,votes = zip(*class_counter.most_common())\n",
    "    winner = class_counter.most_common(1)[0][0]\n",
    "    votes4winner = class_counter.most_common(1)[0][1]\n",
    "    if all_results:\n",
    "        total = sum(class_counter.values(), 0.0)\n",
    "        for key in class_counter:\n",
    "             class_counter[key] /= total\n",
    "        return winner, class_counter.most_common()\n",
    "    else:\n",
    "        return winner, votes4winner / sum(votes)"
   ]
  },
  {
   "cell_type": "code",
   "execution_count": 25,
   "metadata": {},
   "outputs": [
    {
     "name": "stdout",
     "output_type": "stream",
     "text": [
      "index:  0 , result of vote:  (0, [(0, 1.0)])\n",
      "index:  1 , result of vote:  (0, [(0, 1.0)])\n",
      "index:  2 , result of vote:  (0, [(0, 1.0)])\n",
      "index:  3 , result of vote:  (0, [(0, 1.0)])\n",
      "index:  4 , result of vote:  (0, [(0, 1.0)])\n",
      "index:  5 , result of vote:  (0, [(0, 1.0)])\n",
      "index:  6 , result of vote:  (0, [(0, 1.0)])\n",
      "index:  7 , result of vote:  (1, [(1, 1.0)])\n",
      "index:  8 , result of vote:  (1, [(1, 0.782312925170068), (2, 0.21768707482993196)])\n",
      "index:  9 , result of vote:  (1, [(1, 1.0)])\n",
      "index:  10 , result of vote:  (1, [(1, 0.782312925170068), (2, 0.21768707482993196)])\n",
      "index:  11 , result of vote:  (1, [(1, 1.0)])\n",
      "index:  12 , result of vote:  (1, [(1, 0.7959183673469387), (2, 0.2040816326530612)])\n",
      "index:  13 , result of vote:  (1, [(1, 1.0)])\n",
      "index:  14 , result of vote:  (1, [(1, 1.0)])\n",
      "index:  15 , result of vote:  (1, [(1, 1.0)])\n",
      "index:  16 , result of vote:  (1, [(1, 0.9183673469387754), (2, 0.0816326530612245)])\n",
      "index:  17 , result of vote:  (1, [(1, 1.0)])\n",
      "index:  18 , result of vote:  (1, [(1, 1.0)])\n",
      "index:  19 , result of vote:  (1, [(1, 1.0)])\n",
      "index:  20 , result of vote:  (1, [(1, 1.0)])\n",
      "index:  21 , result of vote:  (2, [(2, 0.9183673469387754), (1, 0.0816326530612245)])\n",
      "index:  22 , result of vote:  (2, [(2, 1.0)])\n",
      "index:  23 , result of vote:  (2, [(2, 1.0)])\n",
      "index:  24 , result of vote:  (2, [(2, 1.0)])\n",
      "index:  25 , result of vote:  (2, [(2, 1.0)])\n",
      "index:  26 , result of vote:  (2, [(2, 0.8299319727891157), (1, 0.17006802721088435)])\n",
      "index:  27 , result of vote:  (2, [(2, 1.0)])\n",
      "index:  28 , result of vote:  (2, [(2, 1.0)])\n",
      "index:  29 , result of vote:  (2, [(2, 0.7619047619047619), (1, 0.23809523809523805)])\n"
     ]
    }
   ],
   "source": [
    "for i in range(len(test_y)):\n",
    "    neighbors = get_neighbors(train, \n",
    "                              train_y, \n",
    "                              test[i], \n",
    "                              6, \n",
    "                              distance=distance)\n",
    "    print(\"index: \", i, \n",
    "          \", result of vote: \", \n",
    "          vote_harmonic_weights(neighbors,\n",
    "                                all_results=True))"
   ]
  },
  {
   "cell_type": "code",
   "execution_count": 26,
   "metadata": {},
   "outputs": [
    {
     "name": "stdout",
     "output_type": "stream",
     "text": [
      "Correct Prediction\n",
      "index:  0 , result of vote:  0 , label:  0 , data:  [4.3 3.  1.1 0.1]\n",
      "Correct Prediction\n",
      "index:  1 , result of vote:  0 , label:  0 , data:  [5.7 4.4 1.5 0.4]\n",
      "Correct Prediction\n",
      "index:  2 , result of vote:  0 , label:  0 , data:  [5.2 4.1 1.5 0.1]\n",
      "Correct Prediction\n",
      "index:  3 , result of vote:  0 , label:  0 , data:  [4.4 3.  1.3 0.2]\n",
      "Correct Prediction\n",
      "index:  4 , result of vote:  0 , label:  0 , data:  [4.4 3.2 1.3 0.2]\n",
      "Correct Prediction\n",
      "index:  5 , result of vote:  0 , label:  0 , data:  [5.  3.5 1.6 0.6]\n",
      "Correct Prediction\n",
      "index:  6 , result of vote:  0 , label:  0 , data:  [5.  3.3 1.4 0.2]\n",
      "Correct Prediction\n",
      "index:  7 , result of vote:  1 , label:  1 , data:  [5.5 2.3 4.  1.3]\n",
      "Correct Prediction\n",
      "index:  8 , result of vote:  1 , label:  1 , data:  [6.3 3.3 4.7 1.6]\n",
      "Correct Prediction\n",
      "index:  9 , result of vote:  1 , label:  1 , data:  [6.  2.2 4.  1. ]\n",
      "Correct Prediction\n",
      "index:  10 , result of vote:  1 , label:  1 , data:  [6.1 2.9 4.7 1.4]\n",
      "Correct Prediction\n",
      "index:  11 , result of vote:  1 , label:  1 , data:  [6.7 3.1 4.4 1.4]\n",
      "Correct Prediction\n",
      "index:  12 , result of vote:  1 , label:  1 , data:  [6.2 2.2 4.5 1.5]\n",
      "Correct Prediction\n",
      "index:  13 , result of vote:  1 , label:  1 , data:  [6.1 2.8 4.  1.3]\n",
      "Correct Prediction\n",
      "index:  14 , result of vote:  1 , label:  1 , data:  [6.4 2.9 4.3 1.3]\n",
      "Correct Prediction\n",
      "index:  15 , result of vote:  1 , label:  1 , data:  [6.7 3.1 4.7 1.5]\n",
      "Correct Prediction\n",
      "index:  16 , result of vote:  1 , label:  1 , data:  [6.1 3.  4.6 1.4]\n",
      "Correct Prediction\n",
      "index:  17 , result of vote:  1 , label:  1 , data:  [5.8 2.6 4.  1.2]\n",
      "Correct Prediction\n",
      "index:  18 , result of vote:  1 , label:  1 , data:  [5.  2.3 3.3 1. ]\n",
      "Correct Prediction\n",
      "index:  19 , result of vote:  1 , label:  1 , data:  [6.2 2.9 4.3 1.3]\n",
      "Correct Prediction\n",
      "index:  20 , result of vote:  1 , label:  1 , data:  [5.1 2.5 3.  1.1]\n",
      "Correct Prediction\n",
      "index:  21 , result of vote:  2 , label:  2 , data:  [5.8 2.7 5.1 1.9]\n",
      "Correct Prediction\n",
      "index:  22 , result of vote:  2 , label:  2 , data:  [6.3 2.9 5.6 1.8]\n",
      "Correct Prediction\n",
      "index:  23 , result of vote:  2 , label:  2 , data:  [6.7 2.5 5.8 1.8]\n",
      "Correct Prediction\n",
      "index:  24 , result of vote:  2 , label:  2 , data:  [6.9 3.2 5.7 2.3]\n",
      "Correct Prediction\n",
      "index:  25 , result of vote:  2 , label:  2 , data:  [7.2 3.2 6.  1.8]\n",
      "Correct Prediction\n",
      "index:  26 , result of vote:  2 , label:  2 , data:  [6.2 2.8 4.8 1.8]\n",
      "Correct Prediction\n",
      "index:  27 , result of vote:  2 , label:  2 , data:  [7.2 3.  5.8 1.6]\n",
      "Correct Prediction\n",
      "index:  28 , result of vote:  2 , label:  2 , data:  [6.9 3.1 5.4 2.1]\n",
      "Correct Prediction\n",
      "index:  29 , result of vote:  2 , label:  2 , data:  [6.3 2.5 5.  1.9]\n"
     ]
    }
   ],
   "source": [
    "correct =[]\n",
    "wrong = []\n",
    "for i in range(len(test)):\n",
    "    neighbors = get_neighbors(train,train_y,test[i],6, distance=distance1)\n",
    "    if (test_y[i] == vote_harmonic_weights(neighbors)[0]):\n",
    "        print(\"Correct Prediction\")\n",
    "        print(\"index: \", i, \n",
    "          \", result of vote: \", vote_harmonic_weights(neighbors)[0], \n",
    "          \", label: \", test_y[i], \n",
    "          \", data: \", test[i])\n",
    "        correct.append(i)\n",
    "    else:\n",
    "        print(\"Wrong Prediction\")\n",
    "        print(\"index: \", i, \n",
    "          \", result of vote: \", vote_harmonic_weights(neighbors)[0], \n",
    "          \", label: \", test_y[i], \n",
    "          \", data: \", test[i])\n",
    "        wrong.append(i)"
   ]
  },
  {
   "cell_type": "code",
   "execution_count": 27,
   "metadata": {},
   "outputs": [
    {
     "data": {
      "text/plain": [
       "[]"
      ]
     },
     "execution_count": 27,
     "metadata": {},
     "output_type": "execute_result"
    }
   ],
   "source": [
    "wrong"
   ]
  },
  {
   "cell_type": "code",
   "execution_count": 28,
   "metadata": {},
   "outputs": [
    {
     "data": {
      "text/plain": [
       "[0,\n",
       " 1,\n",
       " 2,\n",
       " 3,\n",
       " 4,\n",
       " 5,\n",
       " 6,\n",
       " 7,\n",
       " 8,\n",
       " 9,\n",
       " 10,\n",
       " 11,\n",
       " 12,\n",
       " 13,\n",
       " 14,\n",
       " 15,\n",
       " 16,\n",
       " 17,\n",
       " 18,\n",
       " 19,\n",
       " 20,\n",
       " 21,\n",
       " 22,\n",
       " 23,\n",
       " 24,\n",
       " 25,\n",
       " 26,\n",
       " 27,\n",
       " 28,\n",
       " 29]"
      ]
     },
     "execution_count": 28,
     "metadata": {},
     "output_type": "execute_result"
    }
   ],
   "source": [
    "correct"
   ]
  },
  {
   "cell_type": "code",
   "execution_count": 29,
   "metadata": {},
   "outputs": [],
   "source": [
    "def vote_distance_weights(neighbors, all_results=True):\n",
    "    class_counter = Counter()\n",
    "    number_of_neighbors = len(neighbors)\n",
    "    for index in range(number_of_neighbors):\n",
    "        dist = neighbors[index][1]\n",
    "        label = neighbors[index][2]\n",
    "        class_counter[label] += 1 / (dist**2 + 1)\n",
    "    labels, votes = zip(*class_counter.most_common())\n",
    "    #print(labels, votes)\n",
    "    winner = class_counter.most_common(1)[0][0]\n",
    "    votes4winner = class_counter.most_common(1)[0][1]\n",
    "    if all_results:\n",
    "        total = sum(class_counter.values(), 0.0)\n",
    "        for key in class_counter:\n",
    "             class_counter[key] /= total\n",
    "        return winner, class_counter.most_common()\n",
    "    else:\n",
    "        return winner, votes4winner / sum(votes)"
   ]
  },
  {
   "cell_type": "code",
   "execution_count": 30,
   "metadata": {},
   "outputs": [
    {
     "name": "stdout",
     "output_type": "stream",
     "text": [
      "index:  0 , result of vote:  (0, [(0, 1.0)])\n",
      "index:  1 , result of vote:  (0, [(0, 1.0)])\n",
      "index:  2 , result of vote:  (0, [(0, 1.0)])\n",
      "index:  3 , result of vote:  (0, [(0, 1.0)])\n",
      "index:  4 , result of vote:  (0, [(0, 1.0)])\n",
      "index:  5 , result of vote:  (0, [(0, 1.0)])\n",
      "index:  6 , result of vote:  (0, [(0, 1.0)])\n",
      "index:  7 , result of vote:  (1, [(1, 1.0)])\n",
      "index:  8 , result of vote:  (1, [(1, 0.6747197993165132), (2, 0.32528020068348684)])\n",
      "index:  9 , result of vote:  (1, [(1, 1.0)])\n",
      "index:  10 , result of vote:  (1, [(1, 0.6808500224072416), (2, 0.3191499775927583)])\n",
      "index:  11 , result of vote:  (1, [(1, 1.0)])\n",
      "index:  12 , result of vote:  (1, [(1, 0.6817891723039511), (2, 0.31821082769604897)])\n",
      "index:  13 , result of vote:  (1, [(1, 1.0)])\n",
      "index:  14 , result of vote:  (1, [(1, 1.0)])\n",
      "index:  15 , result of vote:  (1, [(1, 1.0)])\n",
      "index:  16 , result of vote:  (1, [(1, 0.841915408421372), (2, 0.15808459157862798)])\n",
      "index:  17 , result of vote:  (1, [(1, 1.0)])\n",
      "index:  18 , result of vote:  (1, [(1, 1.0)])\n",
      "index:  19 , result of vote:  (1, [(1, 1.0)])\n",
      "index:  20 , result of vote:  (1, [(1, 1.0)])\n",
      "index:  21 , result of vote:  (2, [(2, 0.8374000845517119), (1, 0.162599915448288)])\n",
      "index:  22 , result of vote:  (2, [(2, 1.0)])\n",
      "index:  23 , result of vote:  (2, [(2, 1.0)])\n",
      "index:  24 , result of vote:  (2, [(2, 1.0)])\n",
      "index:  25 , result of vote:  (2, [(2, 1.0)])\n",
      "index:  26 , result of vote:  (2, [(2, 0.6864969803346719), (1, 0.31350301966532806)])\n",
      "index:  27 , result of vote:  (2, [(2, 1.0)])\n",
      "index:  28 , result of vote:  (2, [(2, 1.0)])\n",
      "index:  29 , result of vote:  (2, [(2, 0.6698377279833369), (1, 0.3301622720166632)])\n"
     ]
    }
   ],
   "source": [
    "for i in range(len(test_y)):\n",
    "    neighbors = get_neighbors(train, \n",
    "                              train_y, \n",
    "                              test[i], \n",
    "                              6, \n",
    "                              distance=distance)\n",
    "    print(\"index: \", i, \n",
    "          \", result of vote: \", vote_distance_weights(neighbors,\n",
    "                                                      all_results=True))"
   ]
  },
  {
   "cell_type": "markdown",
   "metadata": {},
   "source": [
    "# Weighted nearest neighbor classifier"
   ]
  },
  {
   "cell_type": "raw",
   "metadata": {},
   "source": [
    "Here the ranking of the neighbor in terms of closeness to the sample is considered."
   ]
  },
  {
   "cell_type": "code",
   "execution_count": 31,
   "metadata": {},
   "outputs": [],
   "source": [
    "def vote_harmonic_weights(neighbors, all_results=True):\n",
    "    class_counter = Counter()\n",
    "    number_of_neighbors = len(neighbors)\n",
    "    for index in range(number_of_neighbors):\n",
    "        class_counter[neighbors[index][2]] += 1/(index+1)\n",
    "    labels, votes = zip(*class_counter.most_common())\n",
    "    #print(labels, votes)\n",
    "    winner = class_counter.most_common(1)[0][0]\n",
    "    votes4winner = class_counter.most_common(1)[0][1]\n",
    "    if all_results:\n",
    "        total = sum(class_counter.values(), 0.0)\n",
    "        for key in class_counter:\n",
    "             class_counter[key] /= total\n",
    "        return winner, class_counter.most_common()\n",
    "    else:\n",
    "        return winner, votes4winner / sum(votes)"
   ]
  },
  {
   "cell_type": "code",
   "execution_count": 32,
   "metadata": {},
   "outputs": [
    {
     "name": "stdout",
     "output_type": "stream",
     "text": [
      "index:  0 , result of vote:  (0, [(0, 1.0)])\n",
      "index:  1 , result of vote:  (0, [(0, 1.0)])\n",
      "index:  2 , result of vote:  (0, [(0, 1.0)])\n",
      "index:  3 , result of vote:  (0, [(0, 1.0)])\n",
      "index:  4 , result of vote:  (0, [(0, 1.0)])\n",
      "index:  5 , result of vote:  (0, [(0, 1.0)])\n",
      "index:  6 , result of vote:  (0, [(0, 1.0)])\n",
      "index:  7 , result of vote:  (1, [(1, 1.0)])\n",
      "index:  8 , result of vote:  (1, [(1, 0.782312925170068), (2, 0.21768707482993196)])\n",
      "index:  9 , result of vote:  (1, [(1, 1.0)])\n",
      "index:  10 , result of vote:  (1, [(1, 0.782312925170068), (2, 0.21768707482993196)])\n",
      "index:  11 , result of vote:  (1, [(1, 1.0)])\n",
      "index:  12 , result of vote:  (1, [(1, 0.7959183673469387), (2, 0.2040816326530612)])\n",
      "index:  13 , result of vote:  (1, [(1, 1.0)])\n",
      "index:  14 , result of vote:  (1, [(1, 1.0)])\n",
      "index:  15 , result of vote:  (1, [(1, 1.0)])\n",
      "index:  16 , result of vote:  (1, [(1, 0.9183673469387754), (2, 0.0816326530612245)])\n",
      "index:  17 , result of vote:  (1, [(1, 1.0)])\n",
      "index:  18 , result of vote:  (1, [(1, 1.0)])\n",
      "index:  19 , result of vote:  (1, [(1, 1.0)])\n",
      "index:  20 , result of vote:  (1, [(1, 1.0)])\n",
      "index:  21 , result of vote:  (2, [(2, 0.9183673469387754), (1, 0.0816326530612245)])\n",
      "index:  22 , result of vote:  (2, [(2, 1.0)])\n",
      "index:  23 , result of vote:  (2, [(2, 1.0)])\n",
      "index:  24 , result of vote:  (2, [(2, 1.0)])\n",
      "index:  25 , result of vote:  (2, [(2, 1.0)])\n",
      "index:  26 , result of vote:  (2, [(2, 0.8299319727891157), (1, 0.17006802721088435)])\n",
      "index:  27 , result of vote:  (2, [(2, 1.0)])\n",
      "index:  28 , result of vote:  (2, [(2, 1.0)])\n",
      "index:  29 , result of vote:  (2, [(2, 0.7619047619047619), (1, 0.23809523809523805)])\n"
     ]
    }
   ],
   "source": [
    "for i in range(len(test_y)):\n",
    "    neighbors = get_neighbors(train, \n",
    "                              train_y, \n",
    "                              test[i], \n",
    "                              6, \n",
    "                              distance=distance)\n",
    "    print(\"index: \", i, \n",
    "          \", result of vote: \", \n",
    "          vote_harmonic_weights(neighbors,\n",
    "                                all_results=True))"
   ]
  },
  {
   "cell_type": "raw",
   "metadata": {},
   "source": [
    "Here actual length of the neighbor is considered for value addedness in voting"
   ]
  },
  {
   "cell_type": "raw",
   "metadata": {},
   "source": [
    "Kind of wighted neighbors, weights are based on the distance to the sample"
   ]
  },
  {
   "cell_type": "code",
   "execution_count": 33,
   "metadata": {},
   "outputs": [],
   "source": [
    "def vote_distance_weights(neighbors, all_results=True):\n",
    "    class_counter = Counter()\n",
    "    number_of_neighbors = len(neighbors)\n",
    "    for index in range(number_of_neighbors):\n",
    "        dist = neighbors[index][1]\n",
    "        label = neighbors[index][2]\n",
    "        class_counter[label] += 1 / (dist**2 + 1)\n",
    "    labels, votes = zip(*class_counter.most_common())\n",
    "    #print(labels, votes)\n",
    "    winner = class_counter.most_common(1)[0][0]\n",
    "    votes4winner = class_counter.most_common(1)[0][1]\n",
    "    if all_results:\n",
    "        total = sum(class_counter.values(), 0.0)\n",
    "        for key in class_counter:\n",
    "             class_counter[key] /= total\n",
    "        return winner, class_counter.most_common()\n",
    "    else:\n",
    "        return winner, votes4winner / sum(votes)"
   ]
  },
  {
   "cell_type": "code",
   "execution_count": 34,
   "metadata": {},
   "outputs": [
    {
     "name": "stdout",
     "output_type": "stream",
     "text": [
      "index:  0 , result of vote:  (0, [(0, 1.0)])\n",
      "index:  1 , result of vote:  (0, [(0, 1.0)])\n",
      "index:  2 , result of vote:  (0, [(0, 1.0)])\n",
      "index:  3 , result of vote:  (0, [(0, 1.0)])\n",
      "index:  4 , result of vote:  (0, [(0, 1.0)])\n",
      "index:  5 , result of vote:  (0, [(0, 1.0)])\n",
      "index:  6 , result of vote:  (0, [(0, 1.0)])\n",
      "index:  7 , result of vote:  (1, [(1, 1.0)])\n",
      "index:  8 , result of vote:  (1, [(1, 0.6747197993165132), (2, 0.32528020068348684)])\n",
      "index:  9 , result of vote:  (1, [(1, 1.0)])\n",
      "index:  10 , result of vote:  (1, [(1, 0.6808500224072416), (2, 0.3191499775927583)])\n",
      "index:  11 , result of vote:  (1, [(1, 1.0)])\n",
      "index:  12 , result of vote:  (1, [(1, 0.6817891723039511), (2, 0.31821082769604897)])\n",
      "index:  13 , result of vote:  (1, [(1, 1.0)])\n",
      "index:  14 , result of vote:  (1, [(1, 1.0)])\n",
      "index:  15 , result of vote:  (1, [(1, 1.0)])\n",
      "index:  16 , result of vote:  (1, [(1, 0.841915408421372), (2, 0.15808459157862798)])\n",
      "index:  17 , result of vote:  (1, [(1, 1.0)])\n",
      "index:  18 , result of vote:  (1, [(1, 1.0)])\n",
      "index:  19 , result of vote:  (1, [(1, 1.0)])\n",
      "index:  20 , result of vote:  (1, [(1, 1.0)])\n",
      "index:  21 , result of vote:  (2, [(2, 0.8374000845517119), (1, 0.162599915448288)])\n",
      "index:  22 , result of vote:  (2, [(2, 1.0)])\n",
      "index:  23 , result of vote:  (2, [(2, 1.0)])\n",
      "index:  24 , result of vote:  (2, [(2, 1.0)])\n",
      "index:  25 , result of vote:  (2, [(2, 1.0)])\n",
      "index:  26 , result of vote:  (2, [(2, 0.6864969803346719), (1, 0.31350301966532806)])\n",
      "index:  27 , result of vote:  (2, [(2, 1.0)])\n",
      "index:  28 , result of vote:  (2, [(2, 1.0)])\n",
      "index:  29 , result of vote:  (2, [(2, 0.6698377279833369), (1, 0.3301622720166632)])\n"
     ]
    }
   ],
   "source": [
    "for i in range(len(test_y)):\n",
    "    neighbors =  get_neighbors(train, \n",
    "                              train_y, \n",
    "                              test[i], \n",
    "                              6, \n",
    "                              distance=distance)\n",
    "    print(\"index: \", i, \n",
    "          \", result of vote: \", vote_distance_weights(neighbors,\n",
    "                                                      all_results=True))"
   ]
  },
  {
   "cell_type": "code",
   "execution_count": null,
   "metadata": {},
   "outputs": [],
   "source": []
  }
 ],
 "metadata": {
  "kernelspec": {
   "display_name": "Python 3",
   "language": "python",
   "name": "python3"
  },
  "language_info": {
   "codemirror_mode": {
    "name": "ipython",
    "version": 3
   },
   "file_extension": ".py",
   "mimetype": "text/x-python",
   "name": "python",
   "nbconvert_exporter": "python",
   "pygments_lexer": "ipython3",
   "version": "3.7.3"
  }
 },
 "nbformat": 4,
 "nbformat_minor": 2
}
