{
 "cells": [
  {
   "cell_type": "code",
   "execution_count": 1,
   "metadata": {},
   "outputs": [],
   "source": [
    "import numpy as np\n",
    "import pandas as pd\n",
    "import matplotlib.pyplot as plt\n",
    "import math"
   ]
  },
  {
   "cell_type": "code",
   "execution_count": 2,
   "metadata": {},
   "outputs": [
    {
     "name": "stdout",
     "output_type": "stream",
     "text": [
      "2002,2009,2016,2023,2037,2044,2051,2058,2072,2079,2086,2093,2107,2114,2121,2128,2142,2149,2156,2163,2177,2184,2191,2198,2212,2219,2226,2233,2247,2254,2261,2268,2282,2289,2296,2303,2317,2324,2331,2338,2352,2359,2366,2373,2387,2394,2401,2408,2422,2429,2436,2443,2457,2464,2471,2478,2492,2499,2506,2513,2527,2534,2541,2548,2562,2569,2576,2583,2597,2604,2611,2618,2632,2639,2646,2653,2667,2674,2681,2688,2702,2709,2716,2723,2737,2744,2751,2758,2772,2779,2786,2793,2807,2814,2821,2828,2842,2849,2856,2863,2877,2884,2891,2898,2912,2919,2926,2933,2947,2954,2961,2968,2982,2989,2996,3003,3017,3024,3031,3038,3052,3059,3066,3073,3087,3094,3101,3108,3122,3129,3136,3143,3157,3164,3171,3178,3192,3199\n"
     ]
    }
   ],
   "source": [
    "# Task1 -question2\n",
    "# List of numbers from 2000 to 3200 which are divisble by 7 and not divisible by 5\n",
    "def divBy7NotBy5():\n",
    "    list = \",\".join(str(x) for x in range(2000,3201) if x%7==0 and x%5)\n",
    "    print(list)\n",
    "    \n",
    "def main():\n",
    "    divBy7NotBy5()\n",
    "if __name__==\"__main__\":\n",
    "    main()"
   ]
  },
  {
   "cell_type": "code",
   "execution_count": 3,
   "metadata": {},
   "outputs": [
    {
     "name": "stdout",
     "output_type": "stream",
     "text": [
      "Please enter your first name:varadaraj\n",
      "Please enter your last name:srinivasan\n",
      "srinivasan varadaraj\n"
     ]
    }
   ],
   "source": [
    "#Task1 - question3\n",
    "def NameInput():\n",
    "    firstName = input(\"Please enter your first name:\")\n",
    "    lastName = input(\"Please enter your last name:\")\n",
    "    print(lastName+\" \"+firstName)\n",
    "    \n",
    "def main():\n",
    "    NameInput()\n",
    "if __name__==\"__main__\":\n",
    "    main()"
   ]
  },
  {
   "cell_type": "code",
   "execution_count": 4,
   "metadata": {},
   "outputs": [
    {
     "name": "stdout",
     "output_type": "stream",
     "text": [
      "Enter the diameter of the sphere in cms:12\n",
      "Volume of the sphere is: 904.7786842338603 cubic cms\n"
     ]
    }
   ],
   "source": [
    "# Task1 -question4\n",
    "def volumeOfSphere():\n",
    "    d = float(input(\"Enter the diameter of the sphere in cms:\"))\n",
    "    volume = (4/3)*math.pi*(d/2)**3\n",
    "    print(\"Volume of the sphere is: {} cubic cms\".format(str(volume)))\n",
    "\n",
    "def main():\n",
    "    volumeOfSphere()\n",
    "if __name__==\"__main__\":\n",
    "    main()"
   ]
  },
  {
   "cell_type": "code",
   "execution_count": 5,
   "metadata": {},
   "outputs": [
    {
     "name": "stdout",
     "output_type": "stream",
     "text": [
      "Enter numbers sepaerated by comma:1,2,3,4,5\n",
      "[1.0, 2.0, 3.0, 4.0, 5.0]\n",
      "<class 'float'>\n"
     ]
    }
   ],
   "source": [
    "#Task2 - question1\n",
    "def commaSeperatedNumbers():\n",
    "    val = input(\"Enter numbers seperated by comma:\")\n",
    "    val1 = val.split(',')\n",
    "    val1 = [float(x) for x in val1]\n",
    "    print(val1)\n",
    "    #print(type(val1[0]))\n",
    "\n",
    "def main():\n",
    "    commaSeperatedNumbers()\n",
    "if __name__==\"__main__\":\n",
    "    main()\n"
   ]
  },
  {
   "cell_type": "code",
   "execution_count": 6,
   "metadata": {},
   "outputs": [
    {
     "name": "stdout",
     "output_type": "stream",
     "text": [
      "Enter a value:5\n",
      "*\n",
      "**\n",
      "***\n",
      "****\n",
      "*****\n",
      "****\n",
      "***\n",
      "**\n",
      "*\n"
     ]
    }
   ],
   "source": [
    "#task2 - question2\n",
    "def starPattern():\n",
    "    val = int(input(\"Enter a value:\"))\n",
    "    for i in range(1,val+1):\n",
    "        print(i*'*')\n",
    "    for i in range(val-1,0,-1):\n",
    "        print(i*'*')\n",
    "        \n",
    "def main():\n",
    "    starPattern()\n",
    "if __name__==\"__main__\":\n",
    "    main()\n"
   ]
  },
  {
   "cell_type": "code",
   "execution_count": 8,
   "metadata": {},
   "outputs": [
    {
     "name": "stdout",
     "output_type": "stream",
     "text": [
      "Enter a word:AcadGild\n",
      "dliGdacA"
     ]
    }
   ],
   "source": [
    "#task2 - question3\n",
    "def stringReverse():\n",
    "    word = input(\"Enter a word:\")\n",
    "    for i in range(len(word)):\n",
    "        print(word[len(word)-i-1],end=\"\")\n",
    "        \n",
    "def main():\n",
    "    stringReverse()\n",
    "if __name__==\"__main__\":\n",
    "    main()"
   ]
  },
  {
   "cell_type": "code",
   "execution_count": 128,
   "metadata": {},
   "outputs": [
    {
     "name": "stdout",
     "output_type": "stream",
     "text": [
      "WE, THE PEOPLE OF INDIA,\n",
      "\thaving solemnly resolved to constitute India into a SOVEREIGN,!\n",
      "\t\t SOCIALIST, SECULAR, DEMOCRATIC REPUBLIC \n",
      "\tand to secure to all its citizens\n"
     ]
    }
   ],
   "source": [
    "#task2 - question4\n",
    "def printString():\n",
    "    print(\"WE, THE PEOPLE OF INDIA,\\n\\thaving solemnly resolved to constitute India\" \\\n",
    "          \" into a SOVEREIGN,!\\n\\t\\t SOCIALIST, SECULAR, DEMOCRATIC REPUBLIC \\n\\tand to\" \\\n",
    "          \" secure to all its citizens\")\n",
    "\n",
    "\n",
    "        \n",
    "def main():\n",
    "    printString()\n",
    "if __name__==\"__main__\":\n",
    "    main()"
   ]
  },
  {
   "cell_type": "code",
   "execution_count": 183,
   "metadata": {},
   "outputs": [],
   "source": [
    "import re"
   ]
  },
  {
   "cell_type": "code",
   "execution_count": 130,
   "metadata": {},
   "outputs": [],
   "source": [
    "str = \"WE, THE PEOPLE OF INDIA, having solemnly resolved to constitute India\" \\\n",
    "          \" into a SOVEREIGN,! SOCIALIST, SECULAR, DEMOCRATIC REPUBLIC and to\" \\\n",
    "          \" secure to all its citizens\"\n",
    "a= re.split('[a-z]',str,maxsplit = 1)\n",
    "b = re.split('!',a[1],maxsplit = 1)\n",
    "c = re.split('[a-z]',b[1],maxsplit = 1)"
   ]
  },
  {
   "cell_type": "code",
   "execution_count": 184,
   "metadata": {},
   "outputs": [
    {
     "name": "stdout",
     "output_type": "stream",
     "text": [
      "WE, THE PEOPLE OF INDIA, \n",
      "\thaving solemnly resolved to constitute India into a SOVEREIGN,!\n",
      "\t\t SOCIALIST, SECULAR, DEMOCRATIC REPUBLIC \n",
      "\t\tand to secure to all its citizens\n"
     ]
    }
   ],
   "source": [
    "str = \"WE, THE PEOPLE OF INDIA, having solemnly resolved to constitute India\" \\\n",
    "          \" into a SOVEREIGN, SOCIALIST, SECULAR, DEMOCRATIC REPUBLIC and to\" \\\n",
    "          \" secure to all its citizens\"\n",
    "a= re.search('[a-z]',str)\n",
    "char0 = a.group()\n",
    "a = re.split('[a-z]',str,maxsplit = 1)\n",
    "str1 = a[0]\n",
    "print(str1)\n",
    "b = char0+a[1]\n",
    "#print(b)\n",
    "c = re.split(',',b,maxsplit = 1)\n",
    "str2 = c[0]\n",
    "print(\"\\t\"+str2+\",!\")\n",
    "e =  re.search('[a-z]',c[1])\n",
    "d = re.split('[a-z]',c[1],maxsplit = 1)\n",
    "char2 = e.group()\n",
    "print(\"\\t\"+\"\\t\"+d[0])\n",
    "print(\"\\t\"+\"\\t\"+char2+d[1])"
   ]
  },
  {
   "cell_type": "code",
   "execution_count": null,
   "metadata": {},
   "outputs": [],
   "source": []
  }
 ],
 "metadata": {
  "kernelspec": {
   "display_name": "Python 3",
   "language": "python",
   "name": "python3"
  },
  "language_info": {
   "codemirror_mode": {
    "name": "ipython",
    "version": 3
   },
   "file_extension": ".py",
   "mimetype": "text/x-python",
   "name": "python",
   "nbconvert_exporter": "python",
   "pygments_lexer": "ipython3",
   "version": "3.7.3"
  }
 },
 "nbformat": 4,
 "nbformat_minor": 2
}
