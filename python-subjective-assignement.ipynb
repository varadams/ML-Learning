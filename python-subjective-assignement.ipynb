{
 "cells": [
  {
   "cell_type": "raw",
   "metadata": {},
   "source": [
    " Q1. Write a Python program to get the string from the given string where\n",
    " all the occurrence of its first char has been changed to $ except first\n",
    " char itself?\n"
   ]
  },
  {
   "cell_type": "raw",
   "metadata": {},
   "source": [
    "Sample String: 'prospect'\n",
    "Expected Result : 'pros$pect'"
   ]
  },
  {
   "cell_type": "code",
   "execution_count": 1,
   "metadata": {},
   "outputs": [
    {
     "name": "stdout",
     "output_type": "stream",
     "text": [
      "Enter a string: varada\n",
      "varada\n"
     ]
    }
   ],
   "source": [
    "# Not ignoring the upper case or lower case of first letter\n",
    "def dollarInsert():\n",
    "    inputString = input(\"Enter a string: \")\n",
    "    firstChar = inputString[0]\n",
    "    finalString = inputString[0]\n",
    "    for i in range(1,len(inputString)):\n",
    "        if inputString[i]==firstChar:\n",
    "            finalString = finalString+\"$\"\n",
    "        else:\n",
    "            finalString = finalString+inputString[i]\n",
    "    return(finalString)\n",
    "def main():\n",
    "    print(dollarInsert())\n",
    "\n",
    "if __name__ == \"__main__\":\n",
    "    main()"
   ]
  },
  {
   "cell_type": "raw",
   "metadata": {},
   "source": [
    "Q2. Write a Python program to get the single string from the two given\n",
    "strings, and separated by the space and swap the first two characters of\n",
    "each string?\n",
    "Sample String : 'abc', 'xyz'.\n",
    "Expected Result: 'xyc abz'"
   ]
  },
  {
   "cell_type": "code",
   "execution_count": 2,
   "metadata": {},
   "outputs": [
    {
     "name": "stdout",
     "output_type": "stream",
     "text": [
      "Enter 2 word seperated by comma: varada,seema\n",
      "seema varada\n"
     ]
    }
   ],
   "source": [
    "def separateWords():\n",
    "    inputString = input(\"Enter 2 word seperated by comma: \").split(',')\n",
    "    firstWord = inputString[0]\n",
    "    secondWord = inputString[1]\n",
    "    return(secondWord+\" \"+firstWord)\n",
    "def main():\n",
    "    print(separateWords())\n",
    "\n",
    "if __name__ == \"__main__\":\n",
    "    main()"
   ]
  },
  {
   "cell_type": "raw",
   "metadata": {},
   "source": [
    "Q3. Write the Python program to add 'ing' at the end of the given string\n",
    "(length of the string should be at least 3). If given string already ends\n",
    "with 'ing,' then add 'ly' instead. If string length of the given string is less\n",
    "than 3, leave it unchanged?"
   ]
  },
  {
   "cell_type": "code",
   "execution_count": 3,
   "metadata": {},
   "outputs": [
    {
     "name": "stdout",
     "output_type": "stream",
     "text": [
      "Enter a string: varaa\n",
      "varaaing\n"
     ]
    }
   ],
   "source": [
    "def stringModify():\n",
    "    inputString = input(\"Enter a string: \")\n",
    "    if(len(inputString)<3):\n",
    "        return(inputString)\n",
    "    elif (inputString[-3:] == 'ing'):\n",
    "        return(inputString+\"ly\")\n",
    "    else:\n",
    "        return(inputString+\"ing\")\n",
    "def main():\n",
    "    print(stringModify())\n",
    "\n",
    "if __name__ == \"__main__\":\n",
    "    main()"
   ]
  },
  {
   "cell_type": "raw",
   "metadata": {},
   "source": [
    "Q4. Write the Python program to find the first appearance of the\n",
    "substring 'not' and 'poor' from the given string, if 'not' follows the 'poor',\n",
    "replace the whole 'not'...' poor' substring with 'good'.Return the resulting\n",
    "string.\n"
   ]
  },
  {
   "cell_type": "code",
   "execution_count": 4,
   "metadata": {},
   "outputs": [
    {
     "name": "stdout",
     "output_type": "stream",
     "text": [
      "Enter a string: Movie is not so poor\n",
      " Movie is good\n"
     ]
    }
   ],
   "source": [
    "def stringModify1():\n",
    "    inputString = input(\"Enter a string: \").split()\n",
    "    notIndex=0\n",
    "    poorIndex=0\n",
    "    for i in range(len(inputString)):\n",
    "        if 'not' == inputString[i]:\n",
    "            notIndex=i\n",
    "        if 'poor' == inputString[i]:\n",
    "            poorIndex=i\n",
    "    #print(notIndex)\n",
    "    #print(poorIndex)\n",
    "    newString = \"\"\n",
    "    if notIndex<=poorIndex and notIndex!=0:\n",
    "        for i in range(notIndex):\n",
    "            newString = newString  +\" \"+ inputString[i]\n",
    "        newString = newString + \" \" + \"good\"\n",
    "    else:\n",
    "        for i in range(len(inputString)):\n",
    "            newString = newString +\" \"+ inputString[i]\n",
    "    return newString\n",
    "    \n",
    "    \n",
    "                \n",
    "def main():\n",
    "    print(stringModify1())\n",
    "\n",
    "if __name__ == \"__main__\":\n",
    "    main()"
   ]
  },
  {
   "cell_type": "raw",
   "metadata": {},
   "source": [
    "Q5. Write the Python program to remove the characters which have odd\n",
    "index values of a given string"
   ]
  },
  {
   "cell_type": "code",
   "execution_count": 5,
   "metadata": {},
   "outputs": [
    {
     "name": "stdout",
     "output_type": "stream",
     "text": [
      "Enter a string: var see\n",
      " var\n"
     ]
    }
   ],
   "source": [
    "def stringModify2():\n",
    "    inputString = input(\"Enter a string: \").split()\n",
    "    newString = \"\"\n",
    "    for i in range(0,len(inputString),2):\n",
    "        newString = newString +\" \"+ inputString[i]\n",
    "    return newString  \n",
    "                \n",
    "def main():\n",
    "    print(stringModify2())\n",
    "\n",
    "if __name__ == \"__main__\":\n",
    "    main()"
   ]
  },
  {
   "cell_type": "raw",
   "metadata": {},
   "source": [
    "Q6. Write the Python function to get a string made of 4 copies of the last\n",
    "two characters of the specified string (length must be at least 2)."
   ]
  },
  {
   "cell_type": "code",
   "execution_count": 6,
   "metadata": {},
   "outputs": [
    {
     "name": "stdout",
     "output_type": "stream",
     "text": [
      "Enter a string: varada\n",
      "dadadada\n"
     ]
    }
   ],
   "source": [
    "def stringModify3():\n",
    "    inputString = input(\"Enter a string: \")\n",
    "    if len(inputString) < 2:\n",
    "        return(\"Please enter a string of length atleast 2 letters\")\n",
    "    newString =\"\"\n",
    "    for i in range(0,4):\n",
    "        newString = newString + inputString[-2:]\n",
    "    return newString  \n",
    "                \n",
    "def main():\n",
    "    print(stringModify3())\n",
    "\n",
    "if __name__ == \"__main__\":\n",
    "    main()"
   ]
  },
  {
   "cell_type": "raw",
   "metadata": {},
   "source": [
    " Q7. Write the python function to get a string made of its first three\n",
    " characters of a specified string. If the length of the string is less than 3\n",
    " then return the original string."
   ]
  },
  {
   "cell_type": "code",
   "execution_count": 7,
   "metadata": {},
   "outputs": [
    {
     "name": "stdout",
     "output_type": "stream",
     "text": [
      "Enter a string: varada\n",
      "var\n"
     ]
    }
   ],
   "source": [
    "def stringModify4():\n",
    "    inputString = input(\"Enter a string: \")\n",
    "    if len(inputString) > 3:\n",
    "        return(inputString[:3])\n",
    "    else:\n",
    "        return(inputString)\n",
    "def main():\n",
    "    print(stringModify4())\n",
    "\n",
    "if __name__ == \"__main__\":\n",
    "    main()"
   ]
  },
  {
   "cell_type": "raw",
   "metadata": {},
   "source": [
    "Q8. Write the python program to print the following floating numbers up\n",
    "to 2 decimal places?\n"
   ]
  },
  {
   "cell_type": "code",
   "execution_count": 8,
   "metadata": {},
   "outputs": [
    {
     "name": "stdout",
     "output_type": "stream",
     "text": [
      "Enter a real number: 2.4567\n",
      "2.46\n"
     ]
    }
   ],
   "source": [
    "def floatingNumber():\n",
    "    inputString = input(\"Enter a real number: \")\n",
    "    try:\n",
    "        inputString = float(inputString)    \n",
    "    except ValueError:\n",
    "        return(\"Enter a valid real number\")\n",
    "    return(format(inputString, '.2f'))\n",
    "def main():\n",
    "    print(floatingNumber())\n",
    "\n",
    "if __name__ == \"__main__\":\n",
    "    main()"
   ]
  },
  {
   "cell_type": "raw",
   "metadata": {},
   "source": [
    "Q9. Write the Python program to format a number with a percentage?"
   ]
  },
  {
   "cell_type": "code",
   "execution_count": 9,
   "metadata": {},
   "outputs": [
    {
     "name": "stdout",
     "output_type": "stream",
     "text": [
      "Enter the percentage value in decimal: .45\n",
      "45.00%\n"
     ]
    }
   ],
   "source": [
    "def formatPercentage():\n",
    "    inputString = input(\"Enter the percentage value in decimal: \")\n",
    "    try:\n",
    "        inputString = float(inputString)    \n",
    "    except ValueError:\n",
    "        return(\"Enter a valid real number\")\n",
    "    return(\"{:.2%}\".format(inputString))\n",
    "def main():\n",
    "    print(formatPercentage())\n",
    "\n",
    "if __name__ == \"__main__\":\n",
    "    main()"
   ]
  },
  {
   "cell_type": "raw",
   "metadata": {},
   "source": [
    "Q10. Write the Python program to count occurrences of a substring in a\n",
    "String?"
   ]
  },
  {
   "cell_type": "code",
   "execution_count": 10,
   "metadata": {},
   "outputs": [
    {
     "name": "stdout",
     "output_type": "stream",
     "text": [
      "Enter a string: ra ra ra ri ri ri re rere re\n",
      "Enter a substring to be searched: ra\n",
      "3\n"
     ]
    }
   ],
   "source": [
    "def countSubstring():\n",
    "    inputString = input(\"Enter a string: \")\n",
    "    subString = input(\"Enter a substring to be searched: \")\n",
    "    return(inputString.count(subString))\n",
    "def main():\n",
    "    print(countSubstring())\n",
    "\n",
    "if __name__ == \"__main__\":\n",
    "    main()"
   ]
  },
  {
   "cell_type": "raw",
   "metadata": {},
   "source": [
    " Q11. Write the Python program to count repeated characters in a string"
   ]
  },
  {
   "cell_type": "code",
   "execution_count": 11,
   "metadata": {},
   "outputs": [
    {
     "name": "stdout",
     "output_type": "stream",
     "text": [
      "Enter a string: varada\n",
      "a 3\n"
     ]
    }
   ],
   "source": [
    "from collections import Counter\n",
    "def countRepeatedCharacter():\n",
    "    inputString = input(\"Enter a string: \")\n",
    "    charCount = Counter(inputString)\n",
    "    for index,value in charCount.items():\n",
    "        if value > 1:\n",
    "            print(index,value)\n",
    "def main():\n",
    "    countRepeatedCharacter()\n",
    "    \n",
    "    \n",
    "if __name__ == \"__main__\":\n",
    "    main()"
   ]
  },
  {
   "cell_type": "raw",
   "metadata": {},
   "source": [
    "Q12. Write the Python program to print the square and cube symbol in\n",
    "the area of a rectangle and volume of a cylinder?"
   ]
  },
  {
   "cell_type": "code",
   "execution_count": 12,
   "metadata": {},
   "outputs": [
    {
     "name": "stdout",
     "output_type": "stream",
     "text": [
      "Enter the value of are of a square in square.cms: 45\n",
      "Enter the value of volume of a cylinder in square.cms: 450\n",
      "The area of the rectangle is 45.00 cm²\n",
      "The volume of the cylinder is 450.00 cm³\n"
     ]
    }
   ],
   "source": [
    "def formatPercentage():\n",
    "    area = input(\"Enter the value of are of a square in square.cms: \")\n",
    "    volume = input(\"Enter the value of volume of a cylinder in square.cms: \")\n",
    "    try:\n",
    "        area = float(area)\n",
    "        volume = float(volume)\n",
    "        decimal = 2 \n",
    "        print(\"The area of the rectangle is {0:.{1}f} cm\\u00b2\".format(area,decimal))\n",
    "        print(\"The volume of the cylinder is {0:.{1}f} cm\\u00b3\".format(volume,decimal))\n",
    "    except ValueError:\n",
    "         print(\"Please enter a valid number\")\n",
    "    \n",
    "def main():\n",
    "    formatPercentage()\n",
    "\n",
    "if __name__ == \"__main__\":\n",
    "    main()"
   ]
  },
  {
   "cell_type": "raw",
   "metadata": {},
   "source": [
    "Q13. Write the Python program to check if a string contains all letters of\n",
    "the alphabet?"
   ]
  },
  {
   "cell_type": "code",
   "execution_count": 13,
   "metadata": {},
   "outputs": [
    {
     "name": "stdout",
     "output_type": "stream",
     "text": [
      "Enter the string: varada\n",
      "The input string does not contain all alphabet characters\n"
     ]
    }
   ],
   "source": [
    "import string\n",
    "\n",
    "def stringCheck():\n",
    "    inputString = input(\"Enter the string: \")\n",
    "    inputString = \"\".join(inputString.split())\n",
    "    if set(inputString.lower()) >= set(string.ascii_lowercase):\n",
    "        return (\"The input string contains all alphabet characters\")\n",
    "    else:\n",
    "        return (\"The input string does not contain all alphabet characters\")\n",
    "\n",
    "    \n",
    "def main():\n",
    "    print(stringCheck())\n",
    "\n",
    "if __name__ == \"__main__\":\n",
    "    main()"
   ]
  },
  {
   "cell_type": "raw",
   "metadata": {},
   "source": [
    "Q14. Write the Python program to find the second most repeated word\n",
    "in a given string?"
   ]
  },
  {
   "cell_type": "code",
   "execution_count": null,
   "metadata": {},
   "outputs": [],
   "source": [
    "from collections import Counter\n",
    "def countSecondMostRepeatedWord():\n",
    "    inputString = input(\"Enter a string: \").split()\n",
    "    inputString = list(inputString)\n",
    "    if len(inputString) < 2:\n",
    "        print(\"Less than 2 string to find the second most repeated word. Please enter more than 1 word\")\n",
    "        return\n",
    "    inputString = Counter(inputString)\n",
    "    print(inputString.items())\n",
    "    print(sorted(inputString.items(), key = lambda kv:(kv[1], kv[0])))\n",
    "    second_most_repeated = sorted(inputString.items(), key = lambda kv:(kv[1], kv[0]))[-2]\n",
    "    print(second_most_repeated)\n",
    "    print(\"Second most repeated word in the input string is \" + \"'\"+second_most_repeated[0] + \"'\")\n",
    "    #print(c)\n",
    "    #d = sorted(c)\n",
    "    #for element in d:\n",
    "    #    print(c[element])\n",
    "def main():\n",
    "    countSecondMostRepeatedWord()\n",
    "\n",
    "if __name__ == \"__main__\":\n",
    "    main()"
   ]
  },
  {
   "cell_type": "code",
   "execution_count": null,
   "metadata": {},
   "outputs": [],
   "source": []
  },
  {
   "cell_type": "raw",
   "metadata": {},
   "source": [
    "Q15. Write the Python program to find the minimum window in the given  string,\n",
    "which will contains all the characters of another given strings? "
   ]
  },
  {
   "cell_type": "raw",
   "metadata": {},
   "source": [
    "Input : \n",
    "string1 = \"PRWSOERIUSFK\" \n",
    "string2 = \"OSU\" \n",
    "\n",
    "Output: \n",
    "Minimum window is \"OERIUS\" "
   ]
  },
  {
   "cell_type": "code",
   "execution_count": null,
   "metadata": {},
   "outputs": [],
   "source": []
  }
 ],
 "metadata": {
  "kernelspec": {
   "display_name": "Python 3",
   "language": "python",
   "name": "python3"
  },
  "language_info": {
   "codemirror_mode": {
    "name": "ipython",
    "version": 3
   },
   "file_extension": ".py",
   "mimetype": "text/x-python",
   "name": "python",
   "nbconvert_exporter": "python",
   "pygments_lexer": "ipython3",
   "version": "3.7.3"
  }
 },
 "nbformat": 4,
 "nbformat_minor": 2
}
