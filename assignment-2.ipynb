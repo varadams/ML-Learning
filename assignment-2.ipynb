{
 "cells": [
  {
   "cell_type": "code",
   "execution_count": 1,
   "metadata": {},
   "outputs": [],
   "source": [
    "import numpy as np\n",
    "import pandas as pd\n",
    "import matplotlib.pyplot as plt"
   ]
  },
  {
   "cell_type": "code",
   "execution_count": 2,
   "metadata": {},
   "outputs": [
    {
     "name": "stdout",
     "output_type": "stream",
     "text": [
      "Enter an input string: sad\n",
      "['s', 'a', 'd']\n",
      "['s', 'ss', 'sss', 'a', 'aa', 'aaa', 'd', 'dd', 'ddd']\n",
      "['s', 'a', 'd', 'ss', 'aa', 'dd', 'sss', 'aaa', 'ddd']\n"
     ]
    }
   ],
   "source": [
    "def splitString1():\n",
    "    string = input(\"Enter an input string: \")\n",
    "    \n",
    "    string1 = [x for x in string]\n",
    "    string2 = [x*i for x in string for i in range(1,len(string)+1) ]\n",
    "    string3 = [x*i for i in range(1,len(string)+1) for x in string ]\n",
    "    \n",
    "    print(string1)\n",
    "    print(string2)\n",
    "    print(string3)\n",
    "    \n",
    "def main():\n",
    "    str = splitString1()\n",
    "    #print(str)\n",
    "    \n",
    "if __name__ ==\"__main__\":\n",
    "    main()\n"
   ]
  },
  {
   "cell_type": "code",
   "execution_count": 3,
   "metadata": {},
   "outputs": [
    {
     "name": "stdout",
     "output_type": "stream",
     "text": [
      "Enter an input number: 4567\n",
      "[[4], [5], [6], [5], [6], [7]]\n"
     ]
    }
   ],
   "source": [
    "def splitString2():\n",
    "    string = input(\"Enter an input number: \")\n",
    "    try:\n",
    "        val = int(string)\n",
    "    except ValueError:\n",
    "        print(\"You have entered an invalid number\")\n",
    "        return\n",
    "    string1 = [[int(j)] for i in range(len(string)-2) for j in string[i:i+3]]\n",
    "    #string2 = [int(j) for i in range(len(string)-3) for j in string[i:i+4] ]\n",
    "    #string3 = [x*i for i in range(1,len(string)+1) for x in string ]\n",
    "    \n",
    "    print(string1)\n",
    "    #print(string2)\n",
    "    \n",
    "def main():\n",
    "    splitString2()\n",
    "    \n",
    "if __name__ ==\"__main__\":\n",
    "    main()"
   ]
  },
  {
   "cell_type": "code",
   "execution_count": null,
   "metadata": {},
   "outputs": [
    {
     "name": "stdout",
     "output_type": "stream",
     "text": [
      "Enter an input number with 4 or more digits: 43524\n",
      "[[4, 3, 5, 2], [3, 5, 2, 4]]\n"
     ]
    }
   ],
   "source": [
    "def splitString3():\n",
    "    st = input(\"Enter an input number with 4 or more digits: \")\n",
    "    if(len(st)< 4):\n",
    "        return(\"Please enter a number with 4 or more digits\")\n",
    "    try:\n",
    "        val = int(st)\n",
    "    except ValueError:\n",
    "        return(\"You have entered an invalid number\")\n",
    "        \n",
    "    st1 = [st[i:i+4] for i in range(len(st)-3)]\n",
    "    st2 = [[int(x) for x in st1[i]] for i in range(len(st1))]\n",
    "    #print(st1)\n",
    "    return(st2)\n",
    "def main():\n",
    "    print(splitString3())\n",
    "    \n",
    "if __name__ ==\"__main__\":\n",
    "    main()"
   ]
  },
  {
   "cell_type": "code",
   "execution_count": null,
   "metadata": {},
   "outputs": [
    {
     "name": "stdout",
     "output_type": "stream",
     "text": [
      "Enter the words: dsa sadasda dsadasdasdsa das\n",
      "Longest word is dsadasdasdsa\n",
      "Longest word's length is 12\n"
     ]
    }
   ],
   "source": [
    "def longestWord():\n",
    "    words = input(\"Enter the words: \").split()\n",
    "    max = 0\n",
    "    string = \"\"\n",
    "    for word in words:\n",
    "        if len(word) > max:\n",
    "            max = len(word)\n",
    "            string = word\n",
    "    print(\"Longest word is {}\".format(string))\n",
    "    print(\"Longest word's length is {}\".format(max))\n",
    "def main():\n",
    "    longestWord()\n",
    "    \n",
    "if __name__ ==\"__main__\":\n",
    "    main()"
   ]
  },
  {
   "cell_type": "code",
   "execution_count": null,
   "metadata": {},
   "outputs": [],
   "source": [
    "class triangle(object):\n",
    "    def __init__(self,a=None,b=None,c=None):\n",
    "        self.a = a\n",
    "        self.b = b\n",
    "        self.c = c\n",
    "        if(a==None or b==None or c==None):\n",
    "            values = input(\"Enter the 3 lengths of triangle: \").split()\n",
    "            try:\n",
    "                self.a = float(values[0])\n",
    "                self.b = float(values[1])\n",
    "                self.c = float(values[2])\n",
    "            except ValueError:\n",
    "                return(\"You have entered an invalid number\")\n",
    "                \n",
    "                \n",
    "        \n",
    "class areaOfTriangle(triangle):\n",
    "    def __init__(self,a=None,b=None,c=None):\n",
    "        triangle.__init__(self,a,b,c)\n",
    "        self.s = (self.a+self.b+self.c)/2\n",
    "    \n",
    "    def area(self):\n",
    "        area = ((self.s)*(self.s-self.a)*(self.s-self.b)*(self.s-self.c))**.5\n",
    "        if isinstance(area, complex) or area==0:\n",
    "        #if area <=0:\n",
    "            return (\"Invalid triangle dimensions\")\n",
    "        else:\n",
    "            return(\"Area of triangle with dimensions {},{} and {} is {}\".format(self.a,self.b,self.c,area))\n",
    "    \n",
    "        \n",
    "if __name__ == \"__main__\":\n",
    "    #x = areaOfTriangle(5,7,9)\n",
    "    y = areaOfTriangle()\n",
    "    #print(x.area())\n",
    "    print(y.area())"
   ]
  },
  {
   "cell_type": "code",
   "execution_count": null,
   "metadata": {},
   "outputs": [],
   "source": [
    "def filterLongestWord():\n",
    "    words = input(\"Enter the words: \").split()\n",
    "    n = input(\"Enter the length: \")\n",
    "    try:\n",
    "        n = int(n)\n",
    "    except ValueError:\n",
    "        return(\"Enter a valid integer\")\n",
    "    max = 0\n",
    "    listOfWords = []\n",
    "    for word in words:\n",
    "        if len(word) > n:\n",
    "            listOfWords.append(word)\n",
    "    return(listOfWords)\n",
    "def main():\n",
    "    print(filterLongestWord())\n",
    "    \n",
    "if __name__ ==\"__main__\":\n",
    "    main()"
   ]
  },
  {
   "cell_type": "code",
   "execution_count": null,
   "metadata": {},
   "outputs": [],
   "source": [
    "def lengthOfWordsList():\n",
    "    words = input(\"Enter the words: \").split()\n",
    "    listOfWords = []\n",
    "    for word in words:\n",
    "        listOfWords.append(len(word))\n",
    "    return(listOfWords)\n",
    "def main():\n",
    "    print(lengthOfWordsList())\n",
    "    \n",
    "if __name__ ==\"__main__\":\n",
    "    main()"
   ]
  },
  {
   "cell_type": "code",
   "execution_count": null,
   "metadata": {},
   "outputs": [],
   "source": [
    "def isVowel():\n",
    "    char = input(\"Enter a character: \")\n",
    "    if len(char)!=1:\n",
    "        return(\"Please enter a character instead of string\")\n",
    "    else:\n",
    "        if(char in ('aeiouAEIOU')):\n",
    "            return(\"{} is a vowel\".format(char))\n",
    "        else:\n",
    "            return(\"{} is a consonant\".format(char))\n",
    "            \n",
    "def main():\n",
    "    print(isVowel())\n",
    "    \n",
    "if __name__ ==\"__main__\":\n",
    "    main()"
   ]
  },
  {
   "cell_type": "code",
   "execution_count": null,
   "metadata": {},
   "outputs": [],
   "source": [
    "def myReduce(func, iterable, start=None):\n",
    "    it = iter(iterable)\n",
    "    if start is None:\n",
    "        try:\n",
    "            start = next(it)\n",
    "        except StopIteration:\n",
    "            raise TypeError('reduce() of empty sequence with no initial value')\n",
    "    accum_value = start\n",
    "    while True:\n",
    "        try:\n",
    "            accum_value = func(accum_value, next(it))\n",
    "        except StopIteration:\n",
    "            break\n",
    "    return accum_value\n",
    "def main():\n",
    "    print(myReduce(lambda x,y:x+y,[1,2,5]))\n",
    "    \n",
    "if __name__ ==\"__main__\":\n",
    "    main()"
   ]
  },
  {
   "cell_type": "code",
   "execution_count": null,
   "metadata": {},
   "outputs": [],
   "source": [
    "def myFilter(func, iterable):\n",
    "    it = iter(iterable)\n",
    "    accum_value=[]\n",
    "    while True:\n",
    "        try:\n",
    "            val = next(it)\n",
    "            if func(val):\n",
    "                accum_value.append(val)\n",
    "        except StopIteration:\n",
    "            break\n",
    "    return accum_value\n",
    "def filterString(name):\n",
    "        if name in 'aeiouAEIOU':\n",
    "            return True\n",
    "        else:\n",
    "            return False\n",
    "def main():\n",
    "    seq = [1,2,3,4,5,6,7,8,9]\n",
    "    seq1 = 'abcdefddffdsgfhetFGDSGRGOIEFJGFghi'\n",
    "    \n",
    "    print(myFilter(lambda x: x % 2, seq))\n",
    "    print(myFilter(filterString, seq1))\n",
    "    \n",
    "if __name__ ==\"__main__\":\n",
    "    main()"
   ]
  }
 ],
 "metadata": {
  "kernelspec": {
   "display_name": "Python 3",
   "language": "python",
   "name": "python3"
  },
  "language_info": {
   "codemirror_mode": {
    "name": "ipython",
    "version": 3
   },
   "file_extension": ".py",
   "mimetype": "text/x-python",
   "name": "python",
   "nbconvert_exporter": "python",
   "pygments_lexer": "ipython3",
   "version": "3.7.3"
  }
 },
 "nbformat": 4,
 "nbformat_minor": 2
}
