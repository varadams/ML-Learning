{
 "cells": [
  {
   "cell_type": "code",
   "execution_count": 24,
   "metadata": {},
   "outputs": [],
   "source": [
    "import numpy as np\n",
    "import pandas as pd\n",
    "import matplotlib.pyplot as plt"
   ]
  },
  {
   "cell_type": "code",
   "execution_count": 2,
   "metadata": {},
   "outputs": [
    {
     "name": "stdout",
     "output_type": "stream",
     "text": [
      "Enter an input string: dasfa\n",
      "['d', 'a', 's', 'f', 'a']\n",
      "['d', 'dd', 'ddd', 'dddd', 'ddddd', 'a', 'aa', 'aaa', 'aaaa', 'aaaaa', 's', 'ss', 'sss', 'ssss', 'sssss', 'f', 'ff', 'fff', 'ffff', 'fffff', 'a', 'aa', 'aaa', 'aaaa', 'aaaaa']\n",
      "['d', 'a', 's', 'f', 'a', 'dd', 'aa', 'ss', 'ff', 'aa', 'ddd', 'aaa', 'sss', 'fff', 'aaa', 'dddd', 'aaaa', 'ssss', 'ffff', 'aaaa', 'ddddd', 'aaaaa', 'sssss', 'fffff', 'aaaaa']\n",
      "None\n"
     ]
    }
   ],
   "source": [
    "def splitString1():\n",
    "    string = input(\"Enter an input string: \")\n",
    "    \n",
    "    string1 = [x for x in string]\n",
    "    string2 = [x*i for x in string for i in range(1,len(string)+1) ]\n",
    "    string3 = [x*i for i in range(1,len(string)+1) for x in string ]\n",
    "    \n",
    "    print(string1)\n",
    "    print(string2)\n",
    "    print(string3)\n",
    "    \n",
    "def main():\n",
    "    str = splitString1()\n",
    "    print(str)\n",
    "    \n",
    "if __name__ ==\"__main__\":\n",
    "    main()\n"
   ]
  },
  {
   "cell_type": "code",
   "execution_count": 3,
   "metadata": {},
   "outputs": [
    {
     "name": "stdout",
     "output_type": "stream",
     "text": [
      "Enter an input number: fsa\n",
      "You have entered an invalid number\n"
     ]
    }
   ],
   "source": [
    "def splitString2():\n",
    "    string = input(\"Enter an input number: \")\n",
    "    try:\n",
    "        val = int(string)\n",
    "    except ValueError:\n",
    "        print(\"You have entered an invalid number\")\n",
    "        return\n",
    "    string1 = [[int(j)] for i in range(len(string)-2) for j in string[i:i+3]]\n",
    "    #string2 = [int(j) for i in range(len(string)-3) for j in string[i:i+4] ]\n",
    "    #string3 = [x*i for i in range(1,len(string)+1) for x in string ]\n",
    "    \n",
    "    print(string1)\n",
    "    #print(string2)\n",
    "    \n",
    "def main():\n",
    "    splitString2()\n",
    "    \n",
    "if __name__ ==\"__main__\":\n",
    "    main()"
   ]
  },
  {
   "cell_type": "code",
   "execution_count": 4,
   "metadata": {},
   "outputs": [
    {
     "name": "stdout",
     "output_type": "stream",
     "text": [
      "Enter an input number: af\n",
      "You have entered an invalid number\n"
     ]
    }
   ],
   "source": [
    "def splitString3():\n",
    "    st = input(\"Enter an input number: \")\n",
    "    try:\n",
    "        val = int(st)\n",
    "    except ValueError:\n",
    "        print(\"You have entered an invalid number\")\n",
    "        return\n",
    "    st1 = [st[i:i+4] for i in range(len(st)-3)]\n",
    "    st2 = [[int(x) for x in st1[i]] for i in range(len(st1))]\n",
    "    print(st1)\n",
    "    print(st2)\n",
    "    \n",
    "def main():\n",
    "    splitString3()\n",
    "    \n",
    "if __name__ ==\"__main__\":\n",
    "    main()"
   ]
  },
  {
   "cell_type": "code",
   "execution_count": null,
   "metadata": {},
   "outputs": [],
   "source": [
    "def longestWord():\n",
    "    words = input(\"Enter the words: \").split()\n",
    "    max = 0\n",
    "    string = \"\"\n",
    "    for word in words:\n",
    "        if len(word) > max:\n",
    "            max = len(word)\n",
    "            string = word\n",
    "    print(string)\n",
    "    print(max)\n",
    "def main():\n",
    "    longestWord()\n",
    "    \n",
    "if __name__ ==\"__main__\":\n",
    "    main()"
   ]
  },
  {
   "cell_type": "code",
   "execution_count": null,
   "metadata": {},
   "outputs": [],
   "source": [
    "class triangle(object):\n",
    "    def __init__(self,a=None,b=None,c=None):\n",
    "        self.a = a\n",
    "        self.b = b\n",
    "        self.c = c\n",
    "        if(a==None or b==None or c==None):\n",
    "            values = input(\"Enter the 3 lengths of triangle: \").split()\n",
    "            try:\n",
    "                self.a = float(values[0])\n",
    "                self.b = float(values[1])\n",
    "                self.c = float(values[2])\n",
    "            except ValueError:\n",
    "                return(\"You have entered an invalid number\")\n",
    "                \n",
    "                \n",
    "        \n",
    "class areaOfTriangle(triangle):\n",
    "    def __init__(self,a=None,b=None,c=None):\n",
    "        triangle.__init__(self,a,b,c)\n",
    "        self.s = (self.a+self.b+self.c)/2\n",
    "    \n",
    "    def area(self):\n",
    "        area = ((self.s)*(self.s-self.a)*(self.s-self.b)*(self.s-self.c))**.5\n",
    "        if isinstance(area, complex) or area==0:\n",
    "        #if area <=0:\n",
    "            return (\"Invalid triangle dimensions\")\n",
    "        else:\n",
    "            return(\"Area of triangle with dimensions {},{} and {} is {}\".format(self.a,self.b,self.c,area))\n",
    "    \n",
    "        \n",
    "if __name__ == \"__main__\":\n",
    "    x = areaOfTriangle(5,7,9)\n",
    "    y = areaOfTriangle()\n",
    "    print(x.area())\n",
    "    print(y.area())"
   ]
  },
  {
   "cell_type": "code",
   "execution_count": null,
   "metadata": {},
   "outputs": [],
   "source": [
    "def filterLongestWord():\n",
    "    words = input(\"Enter the words: \").split()\n",
    "    n = input(\"Enter the length: \")\n",
    "    try:\n",
    "        n = int(n)\n",
    "    except ValueError:\n",
    "        return(\"Enter a valid integer\")\n",
    "    max = 0\n",
    "    listOfWords = []\n",
    "    for word in words:\n",
    "        if len(word) > n:\n",
    "            listOfWords.append(word)\n",
    "    return(listOfWords)\n",
    "def main():\n",
    "    print(filterLongestWord())\n",
    "    \n",
    "if __name__ ==\"__main__\":\n",
    "    main()"
   ]
  },
  {
   "cell_type": "code",
   "execution_count": 6,
   "metadata": {},
   "outputs": [
    {
     "name": "stdout",
     "output_type": "stream",
     "text": [
      "Enter the words: fa afa asfasfasfasfs fasfas\n",
      "[2, 3, 13, 6]\n"
     ]
    }
   ],
   "source": [
    "def lengthOfWordsList():\n",
    "    words = input(\"Enter the words: \").split()\n",
    "    listOfWords = []\n",
    "    for word in words:\n",
    "        listOfWords.append(len(word))\n",
    "    return(listOfWords)\n",
    "def main():\n",
    "    print(lengthOfWordsList())\n",
    "    \n",
    "if __name__ ==\"__main__\":\n",
    "    main()"
   ]
  },
  {
   "cell_type": "code",
   "execution_count": 23,
   "metadata": {},
   "outputs": [
    {
     "name": "stdout",
     "output_type": "stream",
     "text": [
      "Enter a character: h\n",
      "h is a consonant\n"
     ]
    }
   ],
   "source": [
    "def isVowel():\n",
    "    char = input(\"Enter a character: \")\n",
    "    if len(char)!=1:\n",
    "        return(\"Please enter a character instead of string\")\n",
    "    else:\n",
    "        if(char in ('aeiouAEIOU')):\n",
    "            return(\"{} is a vowel\".format(char))\n",
    "        else:\n",
    "            return(\"{} is a consonant\".format(char))\n",
    "            \n",
    "def main():\n",
    "    print(isVowel())\n",
    "    \n",
    "if __name__ ==\"__main__\":\n",
    "    main()"
   ]
  },
  {
   "cell_type": "code",
   "execution_count": 36,
   "metadata": {},
   "outputs": [
    {
     "name": "stdout",
     "output_type": "stream",
     "text": [
      "Help on built-in function reduce in module _functools:\n",
      "\n",
      "reduce(...)\n",
      "    reduce(function, sequence[, initial]) -> value\n",
      "    \n",
      "    Apply a function of two arguments cumulatively to the items of a sequence,\n",
      "    from left to right, so as to reduce the sequence to a single value.\n",
      "    For example, reduce(lambda x, y: x+y, [1, 2, 3, 4, 5]) calculates\n",
      "    ((((1+2)+3)+4)+5).  If initial is present, it is placed before the items\n",
      "    of the sequence in the calculation, and serves as a default when the\n",
      "    sequence is empty.\n",
      "\n"
     ]
    }
   ],
   "source": [
    "from functools import reduce\n",
    "help(reduce)"
   ]
  },
  {
   "cell_type": "code",
   "execution_count": 37,
   "metadata": {},
   "outputs": [
    {
     "data": {
      "text/plain": [
       "['__call__',\n",
       " '__class__',\n",
       " '__delattr__',\n",
       " '__dir__',\n",
       " '__doc__',\n",
       " '__eq__',\n",
       " '__format__',\n",
       " '__ge__',\n",
       " '__getattribute__',\n",
       " '__gt__',\n",
       " '__hash__',\n",
       " '__init__',\n",
       " '__init_subclass__',\n",
       " '__le__',\n",
       " '__lt__',\n",
       " '__module__',\n",
       " '__name__',\n",
       " '__ne__',\n",
       " '__new__',\n",
       " '__qualname__',\n",
       " '__reduce__',\n",
       " '__reduce_ex__',\n",
       " '__repr__',\n",
       " '__self__',\n",
       " '__setattr__',\n",
       " '__sizeof__',\n",
       " '__str__',\n",
       " '__subclasshook__',\n",
       " '__text_signature__']"
      ]
     },
     "execution_count": 37,
     "metadata": {},
     "output_type": "execute_result"
    }
   ],
   "source": [
    "dir(reduce)"
   ]
  },
  {
   "cell_type": "code",
   "execution_count": 44,
   "metadata": {},
   "outputs": [
    {
     "name": "stdout",
     "output_type": "stream",
     "text": [
      "15\n"
     ]
    }
   ],
   "source": [
    "li = [1, 2, 3, 4, 5]\n",
    "print(reduce(lambda x, y: x+y, li))"
   ]
  },
  {
   "cell_type": "code",
   "execution_count": 51,
   "metadata": {},
   "outputs": [
    {
     "name": "stdout",
     "output_type": "stream",
     "text": [
      "1\n",
      "3\n",
      "6\n",
      "10\n",
      "15\n",
      "21\n",
      "28\n",
      "36\n"
     ]
    }
   ],
   "source": [
    "list1 = [1, 2, 3, 4, 5,6,7,8]\n",
    "def myfun(fun,li1=[]):\n",
    "    fun(li1)\n",
    "def myfun1(li = []):\n",
    "    sum = 0\n",
    "    for x in li:\n",
    "        sum = sum + x\n",
    "        print(sum)\n",
    "    \n",
    "myfun(myfun1,list1)"
   ]
  },
  {
   "cell_type": "code",
   "execution_count": 56,
   "metadata": {},
   "outputs": [
    {
     "name": "stdout",
     "output_type": "stream",
     "text": [
      "1\n",
      "2\n",
      "6\n",
      "24\n",
      "120\n",
      "720\n",
      "5040\n",
      "40320\n"
     ]
    }
   ],
   "source": [
    "list1 = [1, 2, 3, 4, 5,6,7,8]\n",
    "def myfun(fun,li1=[]):\n",
    "    fun(li1)\n",
    "def myfun1(li = []):\n",
    "    sum = 0\n",
    "    for x in li:\n",
    "        sum = sum + x\n",
    "        print(sum)\n",
    "def myfun2(li = []):\n",
    "    mul = 1\n",
    "    for x in li:\n",
    "        mul = mul * x\n",
    "        print(mul)\n",
    "    \n",
    "myfun(myfun2,list1)"
   ]
  },
  {
   "cell_type": "code",
   "execution_count": 57,
   "metadata": {},
   "outputs": [
    {
     "name": "stdout",
     "output_type": "stream",
     "text": [
      "Help on built-in function reduce in module _functools:\n",
      "\n",
      "reduce(...)\n",
      "    reduce(function, sequence[, initial]) -> value\n",
      "    \n",
      "    Apply a function of two arguments cumulatively to the items of a sequence,\n",
      "    from left to right, so as to reduce the sequence to a single value.\n",
      "    For example, reduce(lambda x, y: x+y, [1, 2, 3, 4, 5]) calculates\n",
      "    ((((1+2)+3)+4)+5).  If initial is present, it is placed before the items\n",
      "    of the sequence in the calculation, and serves as a default when the\n",
      "    sequence is empty.\n",
      "\n"
     ]
    }
   ],
   "source": [
    "help(reduce)"
   ]
  },
  {
   "cell_type": "code",
   "execution_count": null,
   "metadata": {},
   "outputs": [],
   "source": []
  }
 ],
 "metadata": {
  "kernelspec": {
   "display_name": "Python 3",
   "language": "python",
   "name": "python3"
  },
  "language_info": {
   "codemirror_mode": {
    "name": "ipython",
    "version": 3
   },
   "file_extension": ".py",
   "mimetype": "text/x-python",
   "name": "python",
   "nbconvert_exporter": "python",
   "pygments_lexer": "ipython3",
   "version": "3.7.3"
  }
 },
 "nbformat": 4,
 "nbformat_minor": 2
}
